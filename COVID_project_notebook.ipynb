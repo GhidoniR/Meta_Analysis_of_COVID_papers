{
 "cells": [
  {
   "cell_type": "markdown",
   "metadata": {},
   "source": [
    "# Meta-analysis of COVID-19 papers\n",
    "\n",
    "### Project for Management and Analysis of Physics Datasets\n",
    "***\n",
    "\n",
    "By: LamBHrusco gang\n",
    "\n"
   ]
  },
  {
   "cell_type": "markdown",
   "metadata": {},
   "source": [
    "## Cluster setup\n",
    "\n",
    "emmò la situa si complica"
   ]
  },
  {
   "cell_type": "code",
   "execution_count": 1,
   "metadata": {},
   "outputs": [],
   "source": [
    "import pandas as pd\n",
    "import numpy  as np \n",
    "import time\n",
    "import matplotlib.pyplot as plt"
   ]
  },
  {
   "cell_type": "code",
   "execution_count": 2,
   "metadata": {},
   "outputs": [
    {
     "data": {
      "text/plain": [
       "{'host': {'python': '3.8.10.final.0',\n",
       "  'python-bits': 64,\n",
       "  'OS': 'Linux',\n",
       "  'OS-release': '5.8.0-59-generic',\n",
       "  'machine': 'x86_64',\n",
       "  'processor': 'x86_64',\n",
       "  'byteorder': 'little',\n",
       "  'LC_ALL': 'None',\n",
       "  'LANG': 'en_US.UTF-8'},\n",
       " 'packages': {'python': '3.8.10.final.0',\n",
       "  'dask': '2021.06.2',\n",
       "  'distributed': '2021.06.2',\n",
       "  'msgpack': '1.0.2',\n",
       "  'cloudpickle': '1.6.0',\n",
       "  'tornado': '6.1',\n",
       "  'toolz': '0.11.1',\n",
       "  'numpy': '1.21.0',\n",
       "  'lz4': None,\n",
       "  'blosc': '1.10.4'}}"
      ]
     },
     "execution_count": 2,
     "metadata": {},
     "output_type": "execute_result"
    }
   ],
   "source": [
    "from distributed.versions import get_versions\n",
    "get_versions()"
   ]
  },
  {
   "cell_type": "code",
   "execution_count": 81,
   "metadata": {},
   "outputs": [],
   "source": [
    "client.close()"
   ]
  },
  {
   "cell_type": "code",
   "execution_count": 3,
   "metadata": {},
   "outputs": [
    {
     "ename": "NameError",
     "evalue": "name 'LocalCluster' is not defined",
     "output_type": "error",
     "traceback": [
      "\u001b[0;31m---------------------------------------------------------------------------\u001b[0m",
      "\u001b[0;31mNameError\u001b[0m                                 Traceback (most recent call last)",
      "\u001b[0;32m<ipython-input-3-f4d654c98fc1>\u001b[0m in \u001b[0;36m<module>\u001b[0;34m\u001b[0m\n\u001b[0;32m----> 1\u001b[0;31m \u001b[0mhelp\u001b[0m\u001b[0;34m(\u001b[0m\u001b[0mLocalCluster\u001b[0m\u001b[0;34m)\u001b[0m\u001b[0;34m\u001b[0m\u001b[0;34m\u001b[0m\u001b[0m\n\u001b[0m",
      "\u001b[0;31mNameError\u001b[0m: name 'LocalCluster' is not defined"
     ]
    }
   ],
   "source": [
    "help(LocalCluster)"
   ]
  },
  {
   "cell_type": "code",
   "execution_count": 3,
   "metadata": {
    "scrolled": true
   },
   "outputs": [
    {
     "data": {
      "text/html": [
       "\n",
       "            <div>\n",
       "                <div style=\"\n",
       "                    width: 24px;\n",
       "                    height: 24px;\n",
       "                    background-color: #e1e1e1;\n",
       "                    border: 3px solid #9D9D9D;\n",
       "                    border-radius: 5px;\n",
       "                    position: absolute;\"> </div>\n",
       "                <div style=\"margin-left: 48px;\">\n",
       "                    <h3 style=\"margin-bottom: 0px;\">Client</h3>\n",
       "                    <p style=\"color: #9D9D9D; margin-bottom: 0px;\">Client-bcf3eaa7-dc51-11eb-871d-6376d702e31b</p>\n",
       "                    <table style=\"width: 100%; text-align: left;\">\n",
       "                    \n",
       "                <tr>\n",
       "                    <td style=\"text-align: left;\"><strong>Connection method:</strong> Cluster object</td>\n",
       "                    <td style=\"text-align: left;\"><strong>Cluster type:</strong> LocalCluster</td>\n",
       "                </tr>\n",
       "                \n",
       "                <tr>\n",
       "                    <td style=\"text-align: left;\">\n",
       "                        <strong>Dashboard: </strong>\n",
       "                        <a href=\"http://127.0.0.1:8787/status\">http://127.0.0.1:8787/status</a>\n",
       "                    </td>\n",
       "                    <td style=\"text-align: left;\"></td>\n",
       "                </tr>\n",
       "                \n",
       "                    </table>\n",
       "                    \n",
       "                <details>\n",
       "                <summary style=\"margin-bottom: 20px;\"><h3 style=\"display: inline;\">Cluster Info</h3></summary>\n",
       "                \n",
       "            <div class=\"jp-RenderedHTMLCommon jp-RenderedHTML jp-mod-trusted jp-OutputArea-output\">\n",
       "                <div style=\"\n",
       "                    width: 24px;\n",
       "                    height: 24px;\n",
       "                    background-color: #e1e1e1;\n",
       "                    border: 3px solid #9D9D9D;\n",
       "                    border-radius: 5px;\n",
       "                    position: absolute;\"> </div>\n",
       "                <div style=\"margin-left: 48px;\">\n",
       "                    <h3 style=\"margin-bottom: 0px; margin-top: 0px;\">LocalCluster</h3>\n",
       "                    <p style=\"color: #9D9D9D; margin-bottom: 0px;\">f609ff63</p>\n",
       "                    <table style=\"width: 100%; text-align: left;\">\n",
       "                    \n",
       "            <tr>\n",
       "                <td style=\"text-align: left;\"><strong>Status:</strong> running</td>\n",
       "                <td style=\"text-align: left;\"><strong>Using processes:</strong> True</td>\n",
       "            </tr>\n",
       "        \n",
       "            <tr>\n",
       "                <td style=\"text-align: left;\">\n",
       "                    <strong>Dashboard:</strong> <a href=\"http://127.0.0.1:8787/status\">http://127.0.0.1:8787/status</a>\n",
       "                </td>\n",
       "                <td style=\"text-align: left;\"><strong>Workers:</strong> 3</td>\n",
       "            </tr>\n",
       "            <tr>\n",
       "                <td style=\"text-align: left;\">\n",
       "                    <strong>Total threads:</strong>\n",
       "                    3\n",
       "                </td>\n",
       "                <td style=\"text-align: left;\">\n",
       "                    <strong>Total memory:</strong>\n",
       "                    2.94 GiB\n",
       "                </td>\n",
       "            </tr>\n",
       "        \n",
       "                    </table>\n",
       "                    <details>\n",
       "                    <summary style=\"margin-bottom: 20px;\"><h3 style=\"display: inline;\">Scheduler Info</h3></summary>\n",
       "                    \n",
       "        <div style=\"\">\n",
       "            \n",
       "            <div>\n",
       "                <div style=\"\n",
       "                    width: 24px;\n",
       "                    height: 24px;\n",
       "                    background-color: #FFF7E5;\n",
       "                    border: 3px solid #FF6132;\n",
       "                    border-radius: 5px;\n",
       "                    position: absolute;\"> </div>\n",
       "                <div style=\"margin-left: 48px;\">\n",
       "                    <h3 style=\"margin-bottom: 0px;\">Scheduler</h3>\n",
       "                    <p style=\"color: #9D9D9D; margin-bottom: 0px;\">Scheduler-9ac9bfbc-e280-40bf-9d34-78c1d0b03931</p>\n",
       "                    <table style=\"width: 100%; text-align: left;\">\n",
       "                        <tr>\n",
       "                            <td style=\"text-align: left;\"><strong>Comm:</strong> tcp://127.0.0.1:43525</td>\n",
       "                            <td style=\"text-align: left;\"><strong>Workers:</strong> 3</td>\n",
       "                        </tr>\n",
       "                        <tr>\n",
       "                            <td style=\"text-align: left;\">\n",
       "                                <strong>Dashboard:</strong> <a href=\"http://127.0.0.1:8787/status\">http://127.0.0.1:8787/status</a>\n",
       "                            </td>\n",
       "                            <td style=\"text-align: left;\">\n",
       "                                <strong>Total threads:</strong>\n",
       "                                3\n",
       "                            </td>\n",
       "                        </tr>\n",
       "                        <tr>\n",
       "                            <td style=\"text-align: left;\">\n",
       "                                <strong>Started:</strong>\n",
       "                                Just now\n",
       "                            </td>\n",
       "                            <td style=\"text-align: left;\">\n",
       "                                <strong>Total memory:</strong>\n",
       "                                2.94 GiB\n",
       "                            </td>\n",
       "                        </tr>\n",
       "                    </table>\n",
       "                </div>\n",
       "            </div>\n",
       "        \n",
       "            <details style=\"margin-left: 48px;\">\n",
       "            <summary style=\"margin-bottom: 20px;\"><h3 style=\"display: inline;\">Workers</h3></summary>\n",
       "            \n",
       "            <div style=\"margin-bottom: 20px;\">\n",
       "                <div style=\"width: 24px;\n",
       "                            height: 24px;\n",
       "                            background-color: #DBF5FF;\n",
       "                            border: 3px solid #4CC9FF;\n",
       "                            border-radius: 5px;\n",
       "                            position: absolute;\"> </div>\n",
       "                <div style=\"margin-left: 48px;\">\n",
       "                <details>\n",
       "                    <summary>\n",
       "                        <h4 style=\"margin-bottom: 0px; display: inline;\">Worker: 0</h4>\n",
       "                    </summary>\n",
       "                    <table style=\"width: 100%; text-align: left;\">\n",
       "                        <tr>\n",
       "                            <td style=\"text-align: left;\"><strong>Comm: </strong> tcp://127.0.0.1:41127</td>\n",
       "                            <td style=\"text-align: left;\"><strong>Total threads: </strong> 1</td>\n",
       "                        </tr>\n",
       "                        <tr>\n",
       "                            <td style=\"text-align: left;\">\n",
       "                                <strong>Dashboard: </strong>\n",
       "                                <a href=\"http://127.0.0.1:36995/status\">http://127.0.0.1:36995/status</a>\n",
       "                            </td>\n",
       "                            <td style=\"text-align: left;\">\n",
       "                                <strong>Memory: </strong>\n",
       "                                0.98 GiB\n",
       "                            </td>\n",
       "                        </tr>\n",
       "                        <tr>\n",
       "                            <td style=\"text-align: left;\"><strong>Nanny: </strong> tcp://127.0.0.1:41671</td>\n",
       "                            <td style=\"text-align: left;\"></td>\n",
       "                        </tr>\n",
       "                        <tr>\n",
       "                            <td colspan=\"2\" style=\"text-align: left;\">\n",
       "                                <strong>Local directory: </strong>\n",
       "                                /home/lnegri/Downloads/Meta_Analysis_of_COVID_papers/dask-worker-space/worker-ob7x9859\n",
       "                            </td>\n",
       "                        </tr>\n",
       "                        \n",
       "                        \n",
       "                    </table>\n",
       "                </details>\n",
       "                </div>\n",
       "            </div>\n",
       "            \n",
       "            <div style=\"margin-bottom: 20px;\">\n",
       "                <div style=\"width: 24px;\n",
       "                            height: 24px;\n",
       "                            background-color: #DBF5FF;\n",
       "                            border: 3px solid #4CC9FF;\n",
       "                            border-radius: 5px;\n",
       "                            position: absolute;\"> </div>\n",
       "                <div style=\"margin-left: 48px;\">\n",
       "                <details>\n",
       "                    <summary>\n",
       "                        <h4 style=\"margin-bottom: 0px; display: inline;\">Worker: 1</h4>\n",
       "                    </summary>\n",
       "                    <table style=\"width: 100%; text-align: left;\">\n",
       "                        <tr>\n",
       "                            <td style=\"text-align: left;\"><strong>Comm: </strong> tcp://127.0.0.1:42875</td>\n",
       "                            <td style=\"text-align: left;\"><strong>Total threads: </strong> 1</td>\n",
       "                        </tr>\n",
       "                        <tr>\n",
       "                            <td style=\"text-align: left;\">\n",
       "                                <strong>Dashboard: </strong>\n",
       "                                <a href=\"http://127.0.0.1:33535/status\">http://127.0.0.1:33535/status</a>\n",
       "                            </td>\n",
       "                            <td style=\"text-align: left;\">\n",
       "                                <strong>Memory: </strong>\n",
       "                                0.98 GiB\n",
       "                            </td>\n",
       "                        </tr>\n",
       "                        <tr>\n",
       "                            <td style=\"text-align: left;\"><strong>Nanny: </strong> tcp://127.0.0.1:45955</td>\n",
       "                            <td style=\"text-align: left;\"></td>\n",
       "                        </tr>\n",
       "                        <tr>\n",
       "                            <td colspan=\"2\" style=\"text-align: left;\">\n",
       "                                <strong>Local directory: </strong>\n",
       "                                /home/lnegri/Downloads/Meta_Analysis_of_COVID_papers/dask-worker-space/worker-hsnd7l56\n",
       "                            </td>\n",
       "                        </tr>\n",
       "                        \n",
       "                        \n",
       "                    </table>\n",
       "                </details>\n",
       "                </div>\n",
       "            </div>\n",
       "            \n",
       "            <div style=\"margin-bottom: 20px;\">\n",
       "                <div style=\"width: 24px;\n",
       "                            height: 24px;\n",
       "                            background-color: #DBF5FF;\n",
       "                            border: 3px solid #4CC9FF;\n",
       "                            border-radius: 5px;\n",
       "                            position: absolute;\"> </div>\n",
       "                <div style=\"margin-left: 48px;\">\n",
       "                <details>\n",
       "                    <summary>\n",
       "                        <h4 style=\"margin-bottom: 0px; display: inline;\">Worker: 2</h4>\n",
       "                    </summary>\n",
       "                    <table style=\"width: 100%; text-align: left;\">\n",
       "                        <tr>\n",
       "                            <td style=\"text-align: left;\"><strong>Comm: </strong> tcp://127.0.0.1:35869</td>\n",
       "                            <td style=\"text-align: left;\"><strong>Total threads: </strong> 1</td>\n",
       "                        </tr>\n",
       "                        <tr>\n",
       "                            <td style=\"text-align: left;\">\n",
       "                                <strong>Dashboard: </strong>\n",
       "                                <a href=\"http://127.0.0.1:42129/status\">http://127.0.0.1:42129/status</a>\n",
       "                            </td>\n",
       "                            <td style=\"text-align: left;\">\n",
       "                                <strong>Memory: </strong>\n",
       "                                0.98 GiB\n",
       "                            </td>\n",
       "                        </tr>\n",
       "                        <tr>\n",
       "                            <td style=\"text-align: left;\"><strong>Nanny: </strong> tcp://127.0.0.1:46637</td>\n",
       "                            <td style=\"text-align: left;\"></td>\n",
       "                        </tr>\n",
       "                        <tr>\n",
       "                            <td colspan=\"2\" style=\"text-align: left;\">\n",
       "                                <strong>Local directory: </strong>\n",
       "                                /home/lnegri/Downloads/Meta_Analysis_of_COVID_papers/dask-worker-space/worker-mrnnl2um\n",
       "                            </td>\n",
       "                        </tr>\n",
       "                        \n",
       "                        \n",
       "                    </table>\n",
       "                </details>\n",
       "                </div>\n",
       "            </div>\n",
       "            \n",
       "            </details>\n",
       "        </div>\n",
       "        \n",
       "                    </details>\n",
       "                </div>\n",
       "            </div>\n",
       "        \n",
       "                </details>\n",
       "                \n",
       "                </div>\n",
       "            </div>\n",
       "        "
      ],
      "text/plain": [
       "<Client: 'tcp://127.0.0.1:43525' processes=3 threads=3, memory=2.94 GiB>"
      ]
     },
     "execution_count": 3,
     "metadata": {},
     "output_type": "execute_result"
    }
   ],
   "source": [
    "from dask.distributed import Client, LocalCluster\n",
    "cluster = LocalCluster(n_workers=3) \n",
    "client  = Client(cluster)\n",
    "#client = Client('localhost:8786')\n",
    "client"
   ]
  },
  {
   "cell_type": "markdown",
   "metadata": {},
   "source": [
    "## Read of papers from JSON files\n",
    "\n",
    "We will import JSON files and tranform them into Dask Bags"
   ]
  },
  {
   "cell_type": "code",
   "execution_count": 42,
   "metadata": {},
   "outputs": [
    {
     "name": "stdout",
     "output_type": "stream",
     "text": [
      "{\"paper_id\": \"0000b93c66f991236db92dc16fa6db119b27ca12\", \"metadata\": {\"title\": \"Infections in Hematopoietic Stem Cell Transplantation (HSCT) Patients 24\", \"authors\": [{\"first\": \"Biju\", \"middle\": [], \"last\": \"George\", \"suffix\": \"\", \"affiliation\": {\"laboratory\": \"\", \"institution\": \"Christian Medical College\", \"location\": {\"settlement\": \"Vellore, Kolkata\", \"country\": \"India, India\"}}, \"email\": \"\"}, {\"first\": \"Sanjay\", \"middle\": [], \"last\": \"Bhattacharya\", \"suffix\": \"\", \"affiliation\": {\"laboratory\": \"\", \"institution\": \"Christian Medical College\", \"location\": {\"settlement\": \"Vellore, Kolkata\", \"country\": \"India, India\"}}, \"email\": \"\"}]}, \"abstract\": [], \"body_text\": [{\"text\": \"Infections are an important cause of morbidity, mortality, hospital stay, intensive care unit admissions, and healthcare cost besides healthcare resource utilization in the setting of hematopoietic stem cell transplantation (HSCT) (Ballen et al. 2016; Muennichow et al. 2018 ). Infections can occur at different stages of HSCT starting from pretransplant conditioning phase, posttransplant pre-engraftment, posttransplant post-engraftment, early posttransplant phase (within 100 days), and late posttransplant phase (after 100 days). The characteristics of infections (bacterial, viral, fungal, and parasitic) and the subsequent consequence are dependent on the immunity of host, prophylaxis provided, and other clinical, microbiological, and immunological factors (Norkin et al. 2019) .\", \"cite_spans\": [{\"start\": 231, \"end\": 251, \"text\": \"(Ballen et al. 2016;\", \"ref_id\": \"BIBREF1\"}, {\"start\": 252, \"end\": 274, \"text\": \"Muennichow et al. 2018\", \"ref_id\": \"BIBREF21\"}, {\"start\": 568, \"end\": 609, \"text\": \"(bacterial, viral, fungal, and parasitic)\", \"ref_id\": null}, {\"start\": 765, \"end\": 785, \"text\": \"(Norkin et al. 2019)\", \"ref_id\": \"BIBREF22\"}], \"ref_spans\": [], \"section\": \"Introduction\"}, {\"text\": \"In a multicentric study of mainly American and few Western European and an Indian HSCT center, the incidence of bacterial, viral, and fungal infections in 1781 adults with acute leukemia who received alternative donor HSCT was estimated between 2008 and 2011. The incidences of bacterial infection at 1 year varied between 59% and 72%. The incidence of viral infection at 1 year was between 45% and 68%. In multivariate analysis, bacterial, fungal, and viral infections were more common after either umbilical cord blood transplant or mismatched unrelated donor transplant than after matched unrelated donor transplant. Bacterial and fungal infections were associated with poorer overall survival. Karnofsky performance status affected overall survival (Ballen et al. 2016) .\", \"cite_spans\": [{\"start\": 753, \"end\": 773, \"text\": \"(Ballen et al. 2016)\", \"ref_id\": \"BIBREF1\"}], \"ref_spans\": [], \"section\": \"Introduction\"}, {\"text\": \"In a report from the Center for International Blood and Marrow Transplant Research, the incidence of late fatal infections (LFIs) in allogeneic hematopoietic stem cell transplantation (HSCT) recipients was published. The report provided details of LFIs in 10,336 adult and 5088 pediatric subjects surviving for !2 years after first HSCT without relapse. Among the patients who died, infections were a primary or contributory cause of death in 31% and 29% of the adult and pediatric patients, respectively. The study also reported that at 12 years post-HSCT, the cumulative incidence of LFIs was 6.4%. Significant risks for developing LFI were increasing age and a history of chronic graft-versus-host disease (cGVHD) with ongoing immunosuppression at 2 years post-HSCT (Norkin et al. 2019) .\", \"cite_spans\": [{\"start\": 769, \"end\": 789, \"text\": \"(Norkin et al. 2019)\", \"ref_id\": \"BIBREF22\"}], \"ref_spans\": [], \"section\": \"Introduction\"}, {\"text\": \"During the conditioning phase of HSCT, the residual disease of the recipient for which HSCT was being performed (malignancy, genetic disorders such as thalassemia or immune deficiency, and bone marrow failure disorders such as aplastic anemia and myelodysplastic syndromes) is eradicated using various regimens comprising of chemotherapy and/or radiotherapy. The conditioning regimen affects the HSCT recipient by influencing the natural physical barriers to infections such as the skin and mucosal integrity as well as hematological components which prevent infection from occurring, namely, the myeloid and the lymphoid cells in the blood and bone marrow. Harvested bone marrow or peripheral blood stem cells is infused through a central vein which then home in on the marrow and subsequently engraft in about 2-3 weeks to generate hematopoietic cells. The pre-engraftment phase (the phase in which infused hematopoietic stem cells are yet to produce functional and viable neutrophils, macrophages, etc.) is the most critical from the point of view of bacterial and fungal infections. During this phase as well as during the phase of conditioning till the initiation of transplant and subsequent engraftment, the patient has to be nursed in HEPA-filtered positive-pressure isolation rooms which should have differential air pressure of 2.5 pascals and air exchange of 12 air exchange cycles per hour. Room temperature should be around 22 C with humidity ranging between 40% and 60% and air particle count of less than 1000 particles per cubic feet of air (Bhalchandra et al. 2015) .\", \"cite_spans\": [{\"start\": 1557, \"end\": 1582, \"text\": \"(Bhalchandra et al. 2015)\", \"ref_id\": \"BIBREF6\"}], \"ref_spans\": [], \"section\": \"Introduction\"}, {\"text\": \"The housekeeping standards, personal hygiene of the patient, and water quality to which patient is exposed must be of very high quality. The water used either for mouthwash, body wash, perineal wash, or drinking must meet the microbiological standards for safety. This means, i.e., water used for such purposes should be free from coliforms, Pseudomonas spp., and other harmful pathogens in order to ensure good water quality (Bhalchandra et al. 2014) . In bone marrow transplant setting, the water is filtered using 0.2 \\u03bc bacterial filters so that even non-pathogens and environmental contaminants could be excluded. The water used for drinking should either be filtered using bacterial filter or autoclaved (pressure cooked) before use. Skincare of the patient has to be meticulous and soap water bath has to be given to the patients on daily basis.\", \"cite_spans\": [{\"start\": 426, \"end\": 451, \"text\": \"(Bhalchandra et al. 2014)\", \"ref_id\": \"BIBREF5\"}], \"ref_spans\": [], \"section\": \"Introduction\"}, {\"text\": \"Before insertion of the central line, the skin is disinfected using combination of 2-2.5% w/v chlorhexidine gluconate with 70% ethanol or isopropanol. Four percent chlorhexidine skin bath may also be used on regular basis on patients especially when decolonization treatment for methicillin-resistant Staphylococcus aureus (MRSA) is being attempted.\", \"cite_spans\": [], \"ref_spans\": [], \"section\": \"Introduction\"}, {\"text\": \"It is important to recognize that small foci such as infected tooth or gums, otitis media, and onychomycosis can lead to serious infections in transplant patients especially in pre-engraftment stage. Therefore, thorough clinical examination needs to be done before embarking on transplantation, so that all infections are treated appropriately before starting hematopoietic stem cell transplant.\", \"cite_spans\": [], \"ref_spans\": [], \"section\": \"Introduction\"}, {\"text\": \"The conditioning regimen including radiation can result in severe mucositis and denudation of skin. This can facilitate migration of normal flora through the tissue into the blood stream. Maintenance of oral hygiene using sodium bicarbonate solution or octenidine mouth wash is essential at all times especially during the course of mucositis. When mucositis subsides, chlorhexidine mouthwash or octenidine solution may be used. All patients undergoing HSCT require introduction of a central venous access for infusion of hematopoietic stem cells, optimal fluid and electrolyte management, provision of nutrition (total parenteral nutrition), energy (glucose infusion), antibiotics, and other medications. The site for central line insertion should be chosen after careful consideration, for example, a Hickman catheter inserted into the subclavian vein is preferable over internal jugular venous catheter or a femoral venous line. The chance of infection generally increases in the above sequence with the least being for the subclavian site and maximum for femoral venous site. Because of the high prevalence of resistant, multiresistant, and extremely drug-resistant organisms in the Indian setting, antibiotic prophylaxis is generally not recommended. Rather an antifungal prophylaxis using one of the following is generally given. Antifungal prophylaxis is usually administered as per defined guidelines, and this includes the use of either fluconazole, voriconazole, or micafungin. Antiviral prophylaxis using aciclovir is given to prevent reactivation of Herpes viruses (HSV 1/ HSV 2, VZV). In the era of posttransplant surveillance using quantitative CMV PCR, antiviral prophylaxis against CMV is generally not administered. Prophylaxis against Pneumocystis jirovecii pneumonia is offered using co-trimoxazole twice weekly after the period of engraftment till the first 100 days posttransplant. In the Indian setting, prophylaxis against the reactivation of mycobacterial infection is generally not given because of high prevalence of latent or asymptomatic infection. It is important to screen patients for Hepatitis B core antibody pretransplant so that those reactive can be given lamivudine or entecavir prophylaxis (Shang et al. 2016) .\", \"cite_spans\": [{\"start\": 2228, \"end\": 2247, \"text\": \"(Shang et al. 2016)\", \"ref_id\": \"BIBREF24\"}], \"ref_spans\": [], \"section\": \"Introduction\"}, {\"text\": \"Prevention and control of infections in the HSCT setting is of paramount importance. This is essential to reduce morbidity, mortality, healthcare cost, spread of infections to other patients, and length of hospital stay. Some of the key infection prevention and control (IPC) measures are as follows: (i) ELISA for galactomannan or beta-Dglucan (ii) Mycological incubator (f) Serology auto-analyzer (g) Real-time PCR system (h) End point PCR system (i) DNA/RNA extraction system (j) Cold and dry storage facilities 3. Quality management systems:\", \"cite_spans\": [], \"ref_spans\": [], \"section\": \"Infection Prevention and Control in Patients Undergoing HSCT\"}, {\"text\": \"(a) Training and competence assessment of human resources (b) Equipment maintenance and calibration (c) Internal quality control (IQC) and external quality assurance (EQA) 4. Environmental microbiology services:\", \"cite_spans\": [], \"ref_spans\": [], \"section\": \"Infection Prevention and Control in Patients Undergoing HSCT\"}, {\"text\": \"(a) Air quality monitoring: preferably using air particle counter in HEPA-filtered areas or settle plate-based culture (b) Water quality monitoring (i) Microbiology (ii) Total dissolved solids (iii) Free chlorine (c) Sterility testing: blood, blood products, stem cells, etc. 5. Central sterile supply department (CSSD)\", \"cite_spans\": [], \"ref_spans\": [], \"section\": \"Infection Prevention and Control in Patients Undergoing HSCT\"}, {\"text\": \"Bacterial infections are the commonest in the posttransplant setting. In the Indian scenario, unlike Western Europe, the United States, Canada, Japan, and Australia, Gram-negative organisms tend to predominate. These are generally caused by Enterobacteriaceae (E. coli, Klebsiella spp.) or by non-fermenting Gram-negative bacilli (Pseudomonas aeruginosa, Acinetobacter spp.). Gram-positive bacteremia is less common than the Gram-negative blood stream infections (BSI), and they are usually caused by coagulase-negative staphylococci (CoNS), methicillin-sensitive and methicillin-resistant Staphylococcus aureus (MSSA, MRSA), Enterococcus spp. (which may include some VREvancomycin-resistant enterococcus of various typese.g., Van A, Van B; Van A genotype/phenotype being the most difficult one to treat being resistant to both vancomycin and teicoplanin), and viridans streptococci. Candida BSI can also occur because of the presence of neutropenia, use of central lines, total parenteral nutrition, neutropenic enterocolitis, and GVHD (graft-versus-host disease), which may occur in the posttransplant period. All the above infections may manifest as a febrile episode initially and, if not adequately treated, may lead to systemic decompensation manifested as hypotension, tachycardia, tachypnea, altered mentation, hypoxia, lactic acidosis, and decreased urine output, besides renal, hepatic functional abnormalities.\", \"cite_spans\": [], \"ref_spans\": [], \"section\": \"Bacterial Infections\"}, {\"text\": \"Prompt Management of Infectionclinically suspected or laboratory-confirmed early management of infection is essential for prevention of morbidity, mortality, and graft loss. The choice of empirical antibiotics may be based on the transplant unit antibiogram of the commonest organism and their resistance profile in similar clinical scenario. There is growing evidence to support the use of pretransplant surveillance culture for antibiotic-resistant bacteria from stool samples and throat swab to detect colonization with multidrug-resistant bacteria and subsequently to select appropriate empirical therapy when such patients are clinically suspected to have sepsis ). The common organisms which are screened during surveillance culture include ESBL, AmpC, carbapenem-resistant organisms, MRSA, and VRE . Such detection of MDROs may be performed using culture-based phenotypic methods or real-time PCR-based genotypic methods (Cepheid GeneXpert system) ). If the febrile episodes fail to respond to the initial antibiotic therapy (piperacillin-tazobactam with amikacin), the antibiotics may have to be escalated to a broader spectrum to cover potential resistant organisms (e.g., meropenem, teicoplanin/vancomycin, +/\\u00c0 colistin) (Bhattacharya 2013) .\", \"cite_spans\": [{\"start\": 1231, \"end\": 1250, \"text\": \"(Bhattacharya 2013)\", \"ref_id\": \"BIBREF7\"}], \"ref_spans\": [], \"section\": \"Bacterial Infections\"}, {\"text\": \"If the patient decompensates or undergoes a hemodynamic or respiratory failure, admission to the ICU becomes essential. In that situation intubation, ventilation, invasive hemodynamic monitoring and organ support (use of vasopressor agents), hemodialysis, and mechanical ventilation may become essential. If this deterioration is caused by sepsis (a situation of dysregulated immune response in response to an infection causing organ dysfunction), antimicrobial coverage may have to be escalated to cover all potential resistant pathogens. This may require addition of tigecycline, fosfomycin, and use of liposomal amphotericin B to cover filamentous fungal infections (molds) and echinocandin in suspected or confirmed sepsis due to Candida species .\", \"cite_spans\": [], \"ref_spans\": [], \"section\": \"Bacterial Infections\"}, {\"text\": \"The common infection types encountered in HSCT patients posttransplant are febrile neutropenia, neutropenic enterocolitis, central-line-associated blood stream infection, and fungal infections involving chest or other viscera. Sometimes central line used for total parenteral nutrition may be the portal of fungal or bacterial sepsis.\", \"cite_spans\": [], \"ref_spans\": [], \"section\": \"Bacterial Infections\"}, {\"text\": \"Viral infections are not uncommon in the posttransplant period and may include reactivation of herpes simplex virus 1 and 2 usually in the oral cavity, reactivation of varicella-zoster virus either involving a single dermatome or multiple dermatomes when it is called disseminated zoster. Respiratory viral infections can also occur due to variety of agents which may be transmitted to transplant patients from staff or family members. However, the most important viral infections in a transplant setting is CMV infection.\", \"cite_spans\": [], \"ref_spans\": [], \"section\": \"Viral Infections\"}, {\"text\": \"In a retrospective analysis of 475 patients who underwent allogeneic HSCT between 2008 and 2012 at Christian Medical College in Vellore, India, CMV reactivation within 100 days post-HSCT was seen in 37% at a median of 41 days (range 10-100) post-HSCT. Ganciclovir was used in 95% of patients with CMV reactivation for a mean duration of 16 days (range 5-32). It was reported that 90% of the patients responded to anti-CMV therapy. On multivariate analysis, male donor, degree of HLA mismatch, and the occurrence of acute GVHD and steroid refractory acute GVHD remained significant risk factors for CMV reactivation. 5-year overall survival was significantly better in patients without CMV reactivation compared to those who developed reactivation of CMV (69 vs. 58%) (Devasia et al. 2018) .\", \"cite_spans\": [{\"start\": 767, \"end\": 788, \"text\": \"(Devasia et al. 2018)\", \"ref_id\": \"BIBREF13\"}], \"ref_spans\": [], \"section\": \"Viral Infections\"}, {\"text\": \"CMV infection can range from CMV viremia to establishment of CMV disease in various organs including the lung, gastrointestinal tract, and the liver. In view of the high mortality associated with the treatment of CMV disease, a variety of preemptive or prophylactic strategies are employed to reduce the incidence of CMV disease. This includes checking CMV IgG reactivity (both in donors and transplant recipients) before transplantation, use of leucodepletion filters to exclude reservoirs of CMV in leukocytes, use of antiviral prophylaxis such as aciclovir or valganciclovir, and regular surveillance of CMV viral load titers using quantitative PCR. The risk of CMV reactivation is highest in those with CMV serostatus: D\\u00c0/R+ followed by D+/R+ and least for D+/R-. CMV reactivation if it occurs may manifest either as a mononucleosis syndrome with nonspecific febrile illness, myalgia, and a maculopapular rash or as organ-specific CMV disease which may manifest as CMV pneumonitis, colitis, hepatitis, encephalitis, retinitis, and hematological disturbances. CMV reactivation can also lead to graft-versus-host disease (GVHD), and similarly the onset of GVHD or its treatment may precipitate a CMV reactivation. When CMV reactivation is detected during viral load monitoring (CMV surveillance), it has to be treated in the preemptive mode even before the onset of organspecific CMV disease. CMV pneumonitis is associated with high morbidity and mortality. Many of the patients with CMV pneumonitis may require respiratory support in the form of invasive or noninvasive ventilation. CMV pneumonitis may be complicated by simultaneous occurrence of Pneumocystis jirovecii pneumonia. Diagnosis of CMV pneumonitis is generally done by demonstration of CMV viremia, clinical and radiological involvement of lung, and demonstration of CMV in bronchoalveolar lavage, endotracheal secretion, and sputum by qualitative CMV PCR. In rare cases, CMV pneumonitis may occur without CMV viremia. This disease, like other CMV diseases, must be treated aggressively with use of intravenous ganciclovir, cidofovir, or foscarnet. Intravenous immunoglobulins (IVIgnormal human immunoglobulin or the more expensive and not readily available CMV-specific immunoglobulin) could be considered as an adjunctive treatment in management of CMV pneumonitis. If CMV-specific immunoglobulin is available and can be afforded, it would be a better choice in management of this condition. CMV colitis manifests generally as diarrhea and abdominal pain along with CMV viremia. Colonoscopic features are suggestive, and biopsy from suspected areas of colon affected by CMV colitis may show CMV inclusions by immunohistochemistry techniques. CMV hepatitis, pancytopenia, and retinitis are other manifestations of CMV disease. The CMV hepatitis is mild but may be superimposed over veno-occlusive disease of the liver and liver GVHD. For management of CMV retinitis, ophthalmological referral is warranted, and in addition to intravenous ganciclovir, intravitreal ganciclovir impregnated implants may have to be considered. The choice of antiviral in management of CMV reactivation depends upon the neutrophil count, renal function of host, and tolerability of oral agents (not useful in case of diarrhea or intestinal GVHD) (Devasia et al. 2018) .\", \"cite_spans\": [{\"start\": 3292, \"end\": 3313, \"text\": \"(Devasia et al. 2018)\", \"ref_id\": \"BIBREF13\"}], \"ref_spans\": [], \"section\": \"Viral Infections\"}, {\"text\": \"In the treatment of CMV infection, ganciclovir is used at dose of 5 mg/Kg body weight twice a day through the intravenous route; alternatively, cidofovir may be used if available after prehydration, at 5 mg/Kg body weight once a week intravenous dose. In case of suspected ganciclovir or cidofovir resistance, foscarnet is the drug of choice which is to be used intravenous 60 mg/Kg body weight thrice daily dose. If the patient has got low viral load ( 10,000 copies/ml) and is able to absorb oral medications adequately, valganciclovir at a dose of 900 mg twice daily may be used. Monitoring the patient for drug-induced toxicities is essential, and these may be manifested as nephrotoxicity, granulocytopenia, and thrombocytopenia in the case of ganciclovir, while electrolyte imbalance and nephrotoxicity may be commonly seen in the case of foscarnet and cidofovir. Randomized trials have shown that letermovir was effective in reducing the incidence of CMV infection in patients undergoing HSCT, but this drug is not available in India at present (Kumar et al. 2018) .\", \"cite_spans\": [{\"start\": 1052, \"end\": 1071, \"text\": \"(Kumar et al. 2018)\", \"ref_id\": \"BIBREF19\"}], \"ref_spans\": [], \"section\": \"Viral Infections\"}, {\"text\": \"CMV may exhibit antiviral resistance especially against ganciclovir, and in this scenario cross-resistance to cidofovir is likely. So, if there is no significant decrease in CMV viral load levels after 2 weeks of antiviral treatment or there is an increase in CMV viral load despite adequate antiviral treatment, antiviral resistance needs to be suspected in which case foscarnet would be the drug of choice. Antiviral resistance in CMV is mediated through two CMV genes. These are UL97 and UL54. Resistance is more common due to UL97 than due to UL54. Resistance detection for ganciclovir and other CMV-specific antiviral is done using DNA sequencing of the relevant parts of the CMV gene.\", \"cite_spans\": [], \"ref_spans\": [], \"section\": \"Viral Infections\"}, {\"text\": \"Other viral infections which are common during the peri-transplant period include herpes simplex virus (HSV) 1 and 2 and varicella-zoster virus (VZV) reactivation. These reactivations are largely preventable by aciclovir prophylaxis which is given to all patients in the peri-transplant period. However, if breakthrough infection or reactivation occurs despite prophylaxis, the dose of aciclovir has to be augmented from prophylactic range to therapeutic range. Intravenous treatment with aciclovir is indicated in serious infections and in those who are unable to take oral medications because of malabsorption or mucositis. The dose of aciclovir used to treat HSV reactivation varies between 200 and 400 mg orally five times a day, and, if required, intravenous formulation at a dose of 5 mg/Kg body weight thrice daily may be administered. VZV infection or reactivation in immunocompromised setting may be complicated with pneumonia, hepatitis, and encephalitis. Even in uncomplicated infection or reactivation in peritransplant period with VZV, it is recommended that aciclovir is administered through intravenous route at 10 mg/Kg body weight thrice daily for 7 days at least. A patient with VZV reactivation or primary infection, if in the hospital, should be nursed in a negative pressure isolation room which has separate air vents for the outlet air. It is important to note that viruses including VZV may not be filtered by HEPA filters and the only way to ensure effective isolation of the infectious patient is through appropriate ventilation systems. VZV pneumonitis has higher morbidity and mortality and may require artificial ventilation and ICU admission. In case of such patient, it is important that, only staff immune to VZV be involved in their care to prevent occurrence of secondary cases among staff and other caregivers. This may be ensured either through a history of chicken pox or zoster or history of VZV vaccination or demonstration of anti-VZV IgG antibody levels by enzyme immunoassay (EIA). However, time-resolved fluorescence immunoassay is preferred test to detect vaccineinduced anti-VZV IgG antibodies.\", \"cite_spans\": [], \"ref_spans\": [], \"section\": \"Viral Infections\"}, {\"text\": \"Respiratory virus infection is a major concern in the peri-transplant period. The principal agents associated include influenza A and B, respiratory syncytial virus (RSV), metapneumovirus, parainfluenza virus, coronavirus, adenovirus, rhinovirus, enterovirus, and bocavirus. Besides, atypical agents such as those caused by Chlamydia, Mycoplasma, and Legionella may cause occasional infections. Among the atypical pathogens, Legionella is the most important cause of infection acquired in healthcare setting because the organism can proliferate and get transmitted from shower heads and other water supply points which are liable for stagnation, low chlorination, and inadequate or inappropriate temperature control of water. Legionella contamination of hospital water supply is preventable and controllable through chlorination, water heating, and point of use bacterial filters of 0.2 \\u03bcm pore size. Among the respiratory viral infections, only influenza A and B are preventable through yearly vaccination (John et al. 2018 ). Influenza vaccine compositions are different for northern and southern hemispheres. For the countries located in the tropics, it needs to be checked from the WHO website if the circulating strains in these countries in a given year are of northern or southern hemispheric variety, so that appropriate vaccine could be selected for vaccination of vulnerable patients.\", \"cite_spans\": [{\"start\": 1007, \"end\": 1024, \"text\": \"(John et al. 2018\", \"ref_id\": \"BIBREF18\"}], \"ref_spans\": [], \"section\": \"Viral Infections\"}, {\"text\": \"Respiratory viral infections may be clinically indistinguishable from each other and may clinically manifest as fever, headache, sore throat, cough, sneezing, and myalgia. In some cases, it may be associated with rash (e.g., enteroviral infection) or other specific respiratory syndromes such as bronchiolitis caused by respiratory syncytial virus or laryngotracheobronchitis (cough caused by parainfluenza virus). Some cases of respiratory viral infection may require hospitalization especially in cases complicated by pneumonia and ARDS (acute respiratory distress syndrome). Some patients with severe respiratory involvement may require mechanical ventilation, airway support along with oxygen therapy, and antiviral and antibacterial treatment to manage secondary bacterial infections (commonly caused by Staphylococcus aureus, Streptococcus pneumoniae). The drug of choice for management of influenza is oseltamivir which is given orally or through the nasogastric tube at a dose of 75 mg twice daily for minimum of 5 days. In patients with severe and unremitting disease, double dose of oseltamivir for 10 days is clinically justified especially in critical care setting. In patients with oseltamivir-resistant influenza (caused by the neuraminidase inhibitor mutation H275Y), zanamivir administered at a dose of 10 mg twice daily in the inhaled form should be given.\", \"cite_spans\": [], \"ref_spans\": [], \"section\": \"Viral Infections\"}, {\"text\": \"Influenza is particularly severe in those who are less than 5 years of age; in individuals greater than 65 years; those with chronic comorbidities such as diabetes mellitus, liver disease, chronic renal failure, and HIV infection, steroid user; and those immunodeficient from other disease or medication. The morbidity, hospitalization rate, and mortality from influenza in such cases is significantly more, and prophylactic vaccination administered before the onset of influenza season should be practiced yearly. Respiratory viral infections are currently diagnosed in most centers through viral PCRs done in the monoplex or multiplex format. The PCRs if resources permit should be done preferably as a syndromic panel to include all relevant pathogen. For influenza-like illnesses, the PCR viral target should include H1N1 and H3N2 strains for influenza A as well as influenza B strains.\", \"cite_spans\": [], \"ref_spans\": [], \"section\": \"Viral Infections\"}, {\"text\": \"HSCT recipients are also susceptible to diseases caused by BK virus. The incidence seems to be higher in patients undergoing haploidentical and unrelated donor transplants. This may manifest as hemorrhagic cystitis, ureteric stenosis, BK virus nephropathy, and hemorrhagic cystitis, of which hemorrhagic cystitis is the commonest clinical presentation. This should be differentiated from other infective and noninfective causes besides those due to BK virus infection. These include urothelial toxicity caused by cyclophosphamide and infections due to adenovirus. The patient may present with dysuria, urgency, frequency, and hematuria. BK viral PCR (preferably quantitative) done on urine sample initially and then on blood are the necessary investigations. The treatment of BK virus hemorrhagic cystitis includes hydration, urinary bladder irrigation, and use of antiviral agents, if required. The antiviral agents with activity against BK virus include ciprofloxacin, leflunomide, and cidofovir. Patients with BK virus infection should be monitored for hemoglobin and platelet count besides renal parameters such as urea and creatinine (Dropulic and Jones 2008) .\", \"cite_spans\": [{\"start\": 1139, \"end\": 1164, \"text\": \"(Dropulic and Jones 2008)\", \"ref_id\": \"BIBREF14\"}], \"ref_spans\": [], \"section\": \"Viral Infections\"}, {\"text\": \"Other uncommon viral infections which may occur in the post-HSCT patients include disseminated adenovirus infection and EBV infection. Adenovirus infection in post-HSCT settings present as either localized infection such as upper respiratory tract infection, hemorrhagic cystitis, conjunctivitis, or disseminated infection involving the lung, liver, and brain. In these cases there is occurrence of adenovirus viremia which could be detected using real-time quantitative PCR on EDTA whole blood. Disseminated adenovirus infection in the HSCT setting may be associated with adenovirus pneumonitis, hepatitis, and encephalitis and has a poor prognosis. The virus may be demonstrable in end organs like lung or CNS by performing PCR from BAL/ ET secretion or CSF. The treatment of disseminated adenoviral infection involves use of intravenous cidofovir at the dose of 5 mg per kg administered once weekly (Yilmaz et al. 2013) .\", \"cite_spans\": [{\"start\": 902, \"end\": 922, \"text\": \"(Yilmaz et al. 2013)\", \"ref_id\": \"BIBREF26\"}], \"ref_spans\": [], \"section\": \"Viral Infections\"}, {\"text\": \"EBV infection in the post-hematopoietic stem cell transplant (post-HSCT) setting may manifest as a posttransplant lymphoproliferative disease (PTLD) and also as a hemophagocytic syndrome. In PTLD, there is enlargement of lymph nodes along with fever, gastrointestinal syndrome including obstructive jaundice, weight loss, and other symptoms which may affect the lungs and central nervous system. Risk factors for the development of PTLD following allogeneic HSCT include presence of HLA mismatch, use of anti-lymphocyte therapy, and primary immunodeficiency as a primary indication for HSCT. EBV viral load measurement in serum, plasma, or EDTA whole blood is the method of choice along with CT scan of the chest, abdomen, pelvis, and serum LDH assay. In those patients at high risk, surveillance of PTLD by regular monitoring of EBV in peripheral blood should be considered. Therapy for PTLD involves antiviral therapy with aciclovir, reduction of immunosupression, surgical resection or irradiation of the affected site (lymph nodes), cytokines such as interferon alpha, cytotoxic chemotherapy (e.g., CHOP and EPOCH or methotrexate with cytarabine), anti Bcell antibody therapy using anti-CD20 monoclonal antibody (rituximab), and cellular immunotherapy using donor lymphocyte infusion or EBV-specific donor T cell (Loren et al. 2003) .\", \"cite_spans\": [{\"start\": 1317, \"end\": 1336, \"text\": \"(Loren et al. 2003)\", \"ref_id\": \"BIBREF20\"}], \"ref_spans\": [], \"section\": \"Viral Infections\"}, {\"text\": \"Latent infection by hepatitis B virus among patients undergoing bone marrow transplantation is not uncommon and about 5-10% of patients may have latent hepatitis B infection from previous primary acute infection or subclinical exposure. It is important therefore that patient going to receive HSCT be screened not only HIV antigen+ antibody, hepatitis B surface antigen, and hepatitis B surface antibody but also against hepatitis B core antibody. Those who are positive for hepatitis B core antibody should receive antiviral prophylaxis (lamivudine, entecavir, or tenofovir). The risk of reactivation varies based on the type of transplant, conditioning regimen used, and hepatitis B surface antibody titers.\", \"cite_spans\": [], \"ref_spans\": [], \"section\": \"Viral Infections\"}, {\"text\": \"Dengue infection in patients with BMT can have serious adverse implications. This may occur because of immunocompromised status of the patient but also due to delayed diagnosis which may result from atypical presentation in immunocompromised patient and diagnostic confusion arising because of the possibility of chemotherapy-induced thrombocytopenia.\", \"cite_spans\": [], \"ref_spans\": [], \"section\": \"Viral Infections\"}, {\"text\": \"Pretransplant workup of the HSCT patient and donors should involve screening for blood-borne viruses (HIV, hepatitis B and hepatitis C, cytomegalovirus IgG and IgM). Checking hepatitis B core and surface antibody titer and completing the necessary vaccination in time (e.g., hepatitis B, Pneumococcus, influenza) are essential.\", \"cite_spans\": [], \"ref_spans\": [], \"section\": \"Viral Infections\"}, {\"text\": \"Fungal infection in patients undergoing HSCT is an important cause of morbidity, mortality, prolonged hospital stay, and increased healthcare cost. The common infections that occur in this cohort of patients include (1) pulmonary aspergillosis, (2) brain abscess, (3) rhinocerebral mucormycosis, (4) oral thrush, (5) oropharyngeal candidiasis, (6) esophageal candidiasis, (7) candidemia (candida blood stream infection), (8) cryptococcal meningitis, (9) mucormycosis, (10) disseminated candidiasis involving the brain, eye, liver, spleen, and kidney, (11) aspergillosis/mucormycosis of the kidney, (12) candida urinary tract infection (including catheterassociated urinary tract infection), (13) dermatophyte infection of the skin, hair, and nails (onychomycosis), (14) localized and disseminated fusariosis, (15) rare fungal infection such as trichosporonosis and fusariosis, (16) intraabdominal fungal infection specially due to candida infections in patients with liver disease, abdominal surgery, chemotherapy, and peritoneal dialysis, and (17) device-associated and intervention-associated fungal infection such as central-line-associated bloodstream infection, (18) catheter-associated urinary tract infection, (19) ventilator-associated pneumonia, (20) organ space surgical site infection due to Candida, (21) candida BSI during total parental nutrition, and finally (22) Pneumocystis jirovecii pneumonia. The type of infection seen generally depends upon the time period after HSCT with candidal infections occurring early and infections due to Aspergillus and Mucor occurring later (Baddley et al. 2001) .\", \"cite_spans\": [{\"start\": 1591, \"end\": 1612, \"text\": \"(Baddley et al. 2001)\", \"ref_id\": \"BIBREF0\"}], \"ref_spans\": [], \"section\": \"Fungal Infections\"}, {\"text\": \"Most patients undergoing HSCT receive antifungal prophylaxis. The choice of antifungal prophylaxis used in the transplant schedule depends on the resources available, antifungal spectrum desired, tolerability of patients with respect to oral medication, organ function (kidney, liver), presence of intravenous access (central venous catheter), and a history of previous fungal infections. The type of antifungal prophylaxis used also varies depending on the period post-HSCT. For the preengraftment period, the recommended drugs include fluconazole, voriconazole, itraconazole, and micafungin. For the post-engraftment period especially in the presence of acute GVHD, posaconazole is the treatment of choice followed by voriconazole and itraconazole. Besides, co-trimoxazole is used as anti-Pneumocystis jirovecii prophylaxis. If posaconazole is used as a prophylaxis, it may be used orally or intravenously. Oral formulations are only available as a syrup form in India. Posaconazole syrup is administered at a dose of 200 mg (5 ml) three times a day. Posaconazole solution intravenous infusion is administered as a loading dose of 300 mg of twice in a first day and subsequently 300 mg once a daily. Echinocandin such as anidulafungin is administered intravenously as a 200 mg loading dose on day 1 followed by 100 mg once daily. Alternatively, caspofungin if used is given as a 70 mg loading dose intravenous infusion followed by 50 mg once daily from next day. For micafungin, there is no loading dose, and 100 mg per day intravenous is standard dose for prophylaxis.\", \"cite_spans\": [], \"ref_spans\": [], \"section\": \"Fungal Infections\"}, {\"text\": \"Posaconazole administered intravenously should be given only as a slow intravenous infusion over 90 min. Ideally, serum drug level needs to be monitored for patient on posaconazole oral formulation. These are done using HPLC (high-performance liquid chromatography) or mass spectroscopy-based method. Prophylaxis against Pneumocystis jirovecii is given using co-trimoxazole double strength (960 mg) twice daily for twice weekly for 1 year. In those allergic to sulfur group of drugs, a combination of clindamycin with primaquine may be used.\", \"cite_spans\": [], \"ref_spans\": [], \"section\": \"Fungal Infections\"}, {\"text\": \"For the management of fungal infection, early diagnosis is critical because antifungal agents are often not used as a first-line agent for the management of infective syndromes but often as a second-and third-line alternative therapies when initial antibacterial therapy is found to be inadequate. The diagnostic method used for fungal infections includes simple techniques based on light microscopy and culture to more complex tools such as antigen detection assays by ELISA and molecular assays like PCR and MALDI-TOF. Candida infection in HSCT patients may manifest as a candidemia which could be primaryas a result of CLABSI, secondary form primary infection in another organ, or MBI-LCBI (mucosal barrier injury laboratory-confirmed blood stream infections) in neutropenic patients including those with GVHD (graft-versus-host disease).The incidence of candidiasis has significantly reduced in recent years after the introduction of effective antifungal prophylaxis. However infection still occur especially those due to improper central line handling, particularly in those patients receiving total parental nutrition (Roychowdhury et al. 2016) . The drug of choice for the treatment of candidemia and disseminated candidiasis is echinocandin which has to be administered intravenously. The minimum treatment of candidemia and disseminated candidemia is 2 weeks but may have to be prolonged to 4-6 weeks in case of deep-seated infection such as hepatosplenic candidiasis, renal candidiasis, candida brain abscess, and infective endocarditis. Surgical drainage may have to be attempted in some cases if feasible. However, surgical intervention may not be feasible in those with severe neutropenia, thrombocytopenia, and coagulation abnormalities. The choice of echinocandin will depend on clinical consideration such as potential for hepatic dysfunction and drug interaction. Anidulafungin is an echinocandin which can be administered in patient with liver or renal dysfunction without causing further organ derangement or need for dose modification. The mortality from candidemia remains high (about 40% -30-day all-cause mortality) despite the institution of appropriate antifungal therapy. One of the reasons for the high mortality in candidemia is the occurrence of septic shock in some patients with candida blood stream infection. Delay in the institution of appropriate antifungal therapy in those patients with adverse APACHE IV score or SOFA score may negatively influence clinical outcome and prognosis (Goel et al. 2017) .\", \"cite_spans\": [{\"start\": 1124, \"end\": 1150, \"text\": \"(Roychowdhury et al. 2016)\", \"ref_id\": \"BIBREF23\"}, {\"start\": 2518, \"end\": 2536, \"text\": \"(Goel et al. 2017)\", \"ref_id\": \"BIBREF15\"}], \"ref_spans\": [], \"section\": \"Fungal Infections\"}, {\"text\": \"After candidal infections, aspergillosis principally affecting the lungs (pulmonary aspergillosis) is the second most common fungal infection in HSCT recipients. Here again the incidence has declined because of use of antifungal prophylaxis and use of HEPA filter with positive-pressure isolation room (for nursing the patients) during the pre-engraftment phase of HSCT. Apart from lungs, other organs that could be involved with aspergillosis include the brain, paranasal sinuses, ear, kidneys, and skin, nail, and subcutaneous tissue. The drug of choice for the treatment of aspergillosis is voriconazole which may be administered orally or intravenously. The institution of treatment generally follows diagnosis as per the EORTC-MSG criteria which classify fungal infections into proven, probable, and possible group (Hoenigl et al. 2012) . This classification would require histopathology, high-resolution CT scan, and galactomannan antigen testing by ELISA (along with other host factor, clinical criteria, and microbiological criteria for the diagnosis of mycosis). The duration of treatment of aspergillosis is generally between 3 and 6 weeks depending upon the organ involvement, extent of disease, and response to antifungal therapy. Therapeutic drug level monitoring (TDM) is desirable while treating patient with voriconazole. This is because polymorphism of the cytochrome-based metabolic pathways has shown variation in metabolic rate of voriconazole. There could be also variation in drug level due to drug interaction and suboptimal oral absorption and bioavailability. Voriconazole is generally administered as loading dose 400 mg twice daily in the first day followed by 200 mg twice daily from subsequent days.\", \"cite_spans\": [{\"start\": 820, \"end\": 841, \"text\": \"(Hoenigl et al. 2012)\", \"ref_id\": \"BIBREF16\"}], \"ref_spans\": [], \"section\": \"Fungal Infections\"}, {\"text\": \"Mucormycosis is the third most common fungal infection among patients of HSCT. The disease commonly presents as rhino-orbito-cerebral mucormycosis but may also affect internal organs such as the lung, kidney, as well as intestinal and subcutaneous tissue. The disease can be fulminant, and patients may have rapidly downhill clinical course with tissue necrosis and vascular invasion occurring as part of natural history. Treatment of mucormycosis involves appropriate antifungal therapy (5-10 mg/kg of liposomal amphotericin B) administered intravenously once daily along with early and aggressive surgical debridement. Surgical treatment is an important and often essential part of mucormycosis management since antifungal therapy only may not achieve optimal clinical response in most cases. Referral and consultation with relevant surgical department is therefore essential for adequate management of the cases.\", \"cite_spans\": [], \"ref_spans\": [], \"section\": \"Fungal Infections\"}, {\"text\": \"Other rarer forms of fungal infections which can affect immunocompromised BMT patients include cryptococcosis, fusariosis, trichosporonosis, and scedosporiosis. Antifungal prophylaxis with voriconazole, posaconazole, and liposomal amphotericin B in posttransplant period has significantly reduced the incidence of these diseases.\", \"cite_spans\": [], \"ref_spans\": [], \"section\": \"Fungal Infections\"}, {\"text\": \"Dermatophyte infection if it occurs generally involves the skin and nail and rarely hair in HSCT settings. Most of such infections are preexisting pathology but need to be checked for and adequately treated before starting transplant conditioning. Dermatophyte infections should be treated with terbinafine 250 mg administered orally daily or by an azole such as Itraconazole or voriconazole. The duration of treatment depends on the site of involvement, the extent of the disease, and response to antifungal therapy. For example, onychomycosis involving the finger nails should be treated for at least 6 weeks, whereas those involving toenails should be treated for 3 months.\", \"cite_spans\": [], \"ref_spans\": [], \"section\": \"Fungal Infections\"}, {\"text\": \"Pneumocystis jirovecii pneumonia is an important cause of lower respiratory tract infection in posttransplant patients. Incidence of PCP has reduced after the introduction of co-trimoxazole prophylaxis (Wilkin and Feinberg 1999) . PCP generally presents with dry, nonproductive cough, shortness of breath, fever, and dyspnea on exertion. There is a notable fall in oxygen saturation on exertion. After exercise for 10 min, oxygen saturation may fall below 90% (S O2 < 90%). Chest X-ray or high-resolution CT scan often shows diffuse perihilar or interstitial infiltrates, and arterial blood gas analysis may show partial pressure of oxygen to be less than 11 kilo pascal while the patient breathes room air (normal range should be 11.7-15.3 kilo pascal). Definitive diagnostic of PCP is by microscopic examination of induced sputum or BAL sample. Microscopy may demonstrate cyst either by Giemsa or Grocott stain (silver stain) or by immunofluorescence. More sensitive diagnostic test include PCR, but it is liable to give false-positive because of contamination or may not correlate clinically because of detection of Pneumocystis colonization in the upper respiratory tract. Diagnosis of PCP requires high index of clinical suspicion. Consultation with pulmonologist is essential for consideration of bronchoscopy and BAL (bronchoalveolar lavage) in a timely manner. The drug of choice for management of PCP is co-trimoxazole administered at the dose of 20 mg per kg per day of trimethoprim and 100 mg per kg per day of Sulfamethoxazole. Co-trimoxazole is preferably given intravenously for PCP management but may be given orally as well if intravenous formulation is not available. Dose adjustments should be done as per renal and hepatic function. The duration of treatment with cotrimoxazole is 21 days and should be administered along with corticosteroid such as prednisolone orally or methyl prednisolone IV during treatment.\", \"cite_spans\": [{\"start\": 202, \"end\": 228, \"text\": \"(Wilkin and Feinberg 1999)\", \"ref_id\": \"BIBREF25\"}], \"ref_spans\": [], \"section\": \"Fungal Infections\"}, {\"text\": \"In case of patients with sulfur drug allergy, the treatment options includes clindamycin (450-600 mg given four times in a day) with primaquine (15-30 mg base/once daily). Other treatment options like atovaquone per orally or pentamidine are not readily available in the Indian settings. The dose of adjuvant corticosteroid should be 40 mg twice daily between day 1 and day 5, then 40 mg once daily between day 6 and day 10, and then 20 mg once daily between day 11 and day 21.\", \"cite_spans\": [], \"ref_spans\": [], \"section\": \"Fungal Infections\"}, {\"text\": \"Parasitic infection in the BMT setting is not common and may involve the occurrence of coccidian parasitic infection, primarily of intestinal tract; toxoplasmosis of the eye, brain and liver; and strongyloidiasis affecting the intestine and lung, besides other endemic infections such as giardiasis and malaria. In endemic regions, transfusion of blood and blood products can lead to certain parasitic infection such as malaria, babesiosis, and Chagas disease besides bacterial and viral infections (Basu et al. 2015) . This is relevant for those patients who have traveled to endemic regions for healthcare or tourism. The common parasitic infections are gastrointestinal, and they could be common agents like giardia and entamoeba or due to agents which are more likely to affect immunocompromised patient. The diagnosis of many parasitic infections is by microscopic method. However newer techniques like antigen detection test and nucleic acid amplification test (NAAT) such as PCR are also becoming popular and available. Coccidian parasites in stool (such as Cryptosporidium) are detected using modified acid fast staining. Treatment of cryptosporidiosis involves use of nitazoxanide 500 mg twice daily for 3 days. Other options include paromomycin, azithromycin, or combinations of these drugs. Isosporiasis and cyclosporiasis are treated using co-trimoxazole 960 mg orally twice daily for 10 days. Alternatives are ciprofloxacin 500 mg twice daily for 7 days. For giardiasis the treatment including use of tinidazole 2 gm per orally single dose or metronidazole 400 mg three times daily for 7 days. Treatment of microsporidial infection is done using albendazole 400 mg twice daily for 2-4 weeks. Strongyloidiasis is treated using either ivermectin at a dose of 200 microgram per kg per day for 3 days and should be repeated after 2 weeks. Toxoplasmosis treatment includes use of co-trimoxazole at 60 mg per kg per day and should be divided into two doses. Alternatives are combination of clindamycin 600 mg 4 times daily intravenously or orally along with pyrimethamine 100 mg single dose and then at 50 mg daily PO. Folinic acid at 10-25 mg per kg per day should be used in this regimen. Malaria with suspected Plasmodium falciparum in chloroquine-resistant regions should be treated with artemisinin combination therapy (artemether/lumefantrine: 480 mg) four tablets as a single dose and then again after 8 h followed by four tablets twice daily for another 2 days. Each tablet contains 20 mg of artemether and 120 mg of lumefantrine and should be taken with food. Severe cases of Plasmodium falciparum infection should be treated with intravenous artesunate followed by doxycycline. In malaria due to chloroquinesensitive infection (Plasmodium vivax, Plasmodium malariae, and Plasmodium ovale) 1 gm or 600 mg of chloroquine base should be administered and repeated at a dose of 500 mg after 6 h and then 500 mg daily for another 2 days (Jarque et al. 2016 ).\", \"cite_spans\": [{\"start\": 499, \"end\": 517, \"text\": \"(Basu et al. 2015)\", \"ref_id\": \"BIBREF3\"}, {\"start\": 2948, \"end\": 2967, \"text\": \"(Jarque et al. 2016\", \"ref_id\": \"BIBREF17\"}], \"ref_spans\": [], \"section\": \"Parasitic Infections\"}, {\"text\": \"TB reactivation can occur in immunocompromised patients including those receiving HSCT. The current treatment includes intensive phase for 2-3 months and continuation phase for 4-5 months for pulmonary TB. For drug-sensitive new cases, the current recommendations are to give HRZE (isoniazid, rifampicin, pyrazinamide, and ethambutol) for 2 months followed by HRE for 4 months. In case of MDRTB, the induction phase consists of 6-9 months of kanamycin, levofloxacin, ethionamide, cycloserine, pyrazinamide, and ethambutol and followed by 18 months of levofloxacin, ethionamide, cycloserine, pyrazinamide, and ethambutol.\", \"cite_spans\": [], \"ref_spans\": [], \"section\": \"Mycobacterial Infections\"}, {\"text\": \"There is a significant difference in healthcare cost and possible clinical outcome and infection control implication between drug-sensitive and drug-resistant TB. Accordingly one estimate although the drug-cost of drug-sensitive TB varies between Rs. 2000-4000 for entire duration of treatment, the corresponding expenses for drugresistant TB is between Rs. 100,000 and 150,000. Also note that the duration of treatment of extrapulmonary TB is more than pulmonary TB (6-8 months for pulmonary vs. 12 months of extrapulmonary) (Bennett et al. 2019) .\", \"cite_spans\": [{\"start\": 526, \"end\": 547, \"text\": \"(Bennett et al. 2019)\", \"ref_id\": \"BIBREF4\"}], \"ref_spans\": [], \"section\": \"Mycobacterial Infections\"}, {\"text\": \"Hematopoietic stem cell transplantation, if managed properly, is a life-saving procedure for patients with hematological malignancies, genetic disorders such as thalassemia and immunodeficiency disorders, and bone marrow failure disorders such as aplastic anemia and MDS. However, infection remains the principal cause of morbidity, mortality, hospital stay, and healthcare cost. Prevention of infection and its appropriate management in an HSCT setting requires a multidisciplinary approach which needs to include not only the BMT physician but also skilled nursing, high-quality housekeeping and adequate HVAC system, good water quality, quality-assured CSSD products, and timely and appropriate investigation along with necessary antimicrobial treatment and supportive measure. Infection control and management in BMT setting is a coordination of all those diverse activities to ensure better patient outcome (Basu et al. 2014) (Table 1, Fig. 1 ). \", \"cite_spans\": [{\"start\": 912, \"end\": 930, \"text\": \"(Basu et al. 2014)\", \"ref_id\": \"BIBREF2\"}], \"ref_spans\": [{\"start\": 931, \"end\": 947, \"text\": \"(Table 1, Fig. 1\", \"ref_id\": null}], \"section\": \"Conclusion\"}], \"bib_entries\": {\"BIBREF0\": {\"ref_id\": \"b0\", \"title\": \"Invasive mold infections in allogeneic bone marrow transplant recipients\", \"authors\": [{\"first\": \"J\", \"middle\": [\"W\"], \"last\": \"Baddley\", \"suffix\": \"\"}, {\"first\": \"T\", \"middle\": [\"P\"], \"last\": \"Stroud\", \"suffix\": \"\"}, {\"first\": \"D\", \"middle\": [], \"last\": \"Salzman\", \"suffix\": \"\"}, {\"first\": \"P\", \"middle\": [\"G\"], \"last\": \"Pappas\", \"suffix\": \"\"}], \"year\": 2001, \"venue\": \"Clin Infect Dis\", \"volume\": \"32\", \"issn\": \"9\", \"pages\": \"1319--1324\", \"other_ids\": {}}, \"BIBREF1\": {\"ref_id\": \"b1\", \"title\": \"Infection rates among acute leukemia patients receiving alternative donor hematopoietic cell transplantation\", \"authors\": [{\"first\": \"K\", \"middle\": [], \"last\": \"Ballen\", \"suffix\": \"\"}, {\"first\": \"K\", \"middle\": [], \"last\": \"Woo Ahn\", \"suffix\": \"\"}, {\"first\": \"M\", \"middle\": [], \"last\": \"Chen\", \"suffix\": \"\"}, {\"first\": \"H\", \"middle\": [], \"last\": \"Abdel-Azim\", \"suffix\": \"\"}, {\"first\": \"Ahmed\", \"middle\": [\"I\"], \"last\": \"Aljurf\", \"suffix\": \"\"}, {\"first\": \"M\", \"middle\": [], \"last\": \"\", \"suffix\": \"\"}, {\"first\": \"Antin\", \"middle\": [\"J\"], \"last\": \"Bhatt\", \"suffix\": \"\"}, {\"first\": \"A\", \"middle\": [\"S\"], \"last\": \"Boeckh\", \"suffix\": \"\"}, {\"first\": \"M\", \"middle\": [], \"last\": \"Chen\", \"suffix\": \"\"}, {\"first\": \"G\", \"middle\": [], \"last\": \"Dandoy\", \"suffix\": \"\"}, {\"first\": \"C\", \"middle\": [], \"last\": \"George\", \"suffix\": \"\"}, {\"first\": \"B\", \"middle\": [], \"last\": \"Laughlin\", \"suffix\": \"\"}, {\"first\": \"M\", \"middle\": [\"J\"], \"last\": \"Lazarus\", \"suffix\": \"\"}, {\"first\": \"H\", \"middle\": [\"M\"], \"last\": \"Macmillan\", \"suffix\": \"\"}, {\"first\": \"M\", \"middle\": [\"L\"], \"last\": \"Margolis\", \"suffix\": \"\"}, {\"first\": \"D\", \"middle\": [\"A\"], \"last\": \"Marks\", \"suffix\": \"\"}, {\"first\": \"D\", \"middle\": [\"I\"], \"last\": \"Norkin\", \"suffix\": \"\"}, {\"first\": \"M\", \"middle\": [], \"last\": \"Rosenthal\", \"suffix\": \"\"}, {\"first\": \"J\", \"middle\": [], \"last\": \"Saad\", \"suffix\": \"\"}, {\"first\": \"A\", \"middle\": [], \"last\": \"Savani\", \"suffix\": \"\"}, {\"first\": \"B\", \"middle\": [], \"last\": \"Schouten\", \"suffix\": \"\"}, {\"first\": \"H\", \"middle\": [\"C\"], \"last\": \"Storek\", \"suffix\": \"\"}, {\"first\": \"J\", \"middle\": [], \"last\": \"Szabolcs\", \"suffix\": \"\"}, {\"first\": \"P\", \"middle\": [], \"last\": \"Ustun\", \"suffix\": \"\"}, {\"first\": \"C\", \"middle\": [], \"last\": \"Verneris\", \"suffix\": \"\"}, {\"first\": \"M\", \"middle\": [\"R\"], \"last\": \"Waller\", \"suffix\": \"\"}, {\"first\": \"E\", \"middle\": [\"K\"], \"last\": \"Weisdorf\", \"suffix\": \"\"}, {\"first\": \"D\", \"middle\": [\"J\"], \"last\": \"Williams\", \"suffix\": \"\"}, {\"first\": \"K\", \"middle\": [\"M\"], \"last\": \"Wingard\", \"suffix\": \"\"}, {\"first\": \"J\", \"middle\": [\"R\"], \"last\": \"Wirk\", \"suffix\": \"\"}, {\"first\": \"B\", \"middle\": [], \"last\": \"Wolfs\", \"suffix\": \"\"}, {\"first\": \"T\", \"middle\": [], \"last\": \"Young\", \"suffix\": \"\"}, {\"first\": \"J\", \"middle\": [\"H\"], \"last\": \"Auletta\", \"suffix\": \"\"}, {\"first\": \"J\", \"middle\": [], \"last\": \"Komanduri\", \"suffix\": \"\"}, {\"first\": \"K\", \"middle\": [\"V\"], \"last\": \"Lindemans\", \"suffix\": \"\"}, {\"first\": \"C\", \"middle\": [], \"last\": \"Riches\", \"suffix\": \"\"}, {\"first\": \"M\", \"middle\": [\"L\"], \"last\": \"\", \"suffix\": \"\"}], \"year\": 2016, \"venue\": \"Biol Blood Marrow Transplant\", \"volume\": \"22\", \"issn\": \"9\", \"pages\": \"1636--1645\", \"other_ids\": {}}, \"BIBREF2\": {\"ref_id\": \"b2\", \"title\": \"The importance of the central sterile supply department in infection prevention and control\", \"authors\": [{\"first\": \"D\", \"middle\": [], \"last\": \"Basu\", \"suffix\": \"\"}, {\"first\": \"S\", \"middle\": [], \"last\": \"Bhattacharya\", \"suffix\": \"\"}, {\"first\": \"A\", \"middle\": [], \"last\": \"Mahajan\", \"suffix\": \"\"}, {\"first\": \"V\", \"middle\": [\"R\"], \"last\": \"Ramanan\", \"suffix\": \"\"}, {\"first\": \"M\", \"middle\": [], \"last\": \"Chandy\", \"suffix\": \"\"}], \"year\": 2014, \"venue\": \"Infect Control Hosp Epidemiol\", \"volume\": \"35\", \"issn\": \"10\", \"pages\": \"1312--1314\", \"other_ids\": {}}, \"BIBREF3\": {\"ref_id\": \"b3\", \"title\": \"Infection prevention in transfusion practice\", \"authors\": [{\"first\": \"S\", \"middle\": [], \"last\": \"Basu\", \"suffix\": \"\"}, {\"first\": \"G\", \"middle\": [], \"last\": \"Goel\", \"suffix\": \"\"}, {\"first\": \"S\", \"middle\": [], \"last\": \"Bhattacharya\", \"suffix\": \"\"}], \"year\": 2015, \"venue\": \"Infect Control Hosp Epidemiol\", \"volume\": \"36\", \"issn\": \"5\", \"pages\": \"613--614\", \"other_ids\": {}}, \"BIBREF4\": {\"ref_id\": \"b4\", \"title\": \"The economics of managing tuberculosis in cancer patients in an oncology center in eastern India\", \"authors\": [{\"first\": \"Z\", \"middle\": [], \"last\": \"Bennett\", \"suffix\": \"\"}, {\"first\": \"R\", \"middle\": [], \"last\": \"Dhar\", \"suffix\": \"\"}, {\"first\": \"K\", \"middle\": [], \"last\": \"Dhar\", \"suffix\": \"\"}, {\"first\": \"K\", \"middle\": [], \"last\": \"Das\", \"suffix\": \"\"}, {\"first\": \"A\", \"middle\": [], \"last\": \"Harishankar\", \"suffix\": \"\"}, {\"first\": \"S\", \"middle\": [], \"last\": \"Bhattacharya\", \"suffix\": \"\"}, {\"first\": \"M\", \"middle\": [], \"last\": \"Chandy\", \"suffix\": \"\"}], \"year\": 2019, \"venue\": \"Infect Control Hosp Epidemiol\", \"volume\": \"40\", \"issn\": \"1\", \"pages\": \"122--124\", \"other_ids\": {}}, \"BIBREF5\": {\"ref_id\": \"b5\", \"title\": \"Role of water quality assessments in hospital infection control: experience from a new oncology center in Eastern India\", \"authors\": [{\"first\": \"R\", \"middle\": [], \"last\": \"Bhalchandra\", \"suffix\": \"\"}, {\"first\": \"M\", \"middle\": [], \"last\": \"Chandy\", \"suffix\": \"\"}, {\"first\": \"V\", \"middle\": [\"R\"], \"last\": \"Ramanan\", \"suffix\": \"\"}, {\"first\": \"A\", \"middle\": [], \"last\": \"Mahajan\", \"suffix\": \"\"}, {\"first\": \"J\", \"middle\": [\"R\"], \"last\": \"Soundaranayagam\", \"suffix\": \"\"}, {\"first\": \"S\", \"middle\": [], \"last\": \"Garai\", \"suffix\": \"\"}, {\"first\": \"S\", \"middle\": [], \"last\": \"Bhattacharya\", \"suffix\": \"\"}], \"year\": 2014, \"venue\": \"Indian J Pathol Microbiol\", \"volume\": \"57\", \"issn\": \"3\", \"pages\": \"435--438\", \"other_ids\": {}}, \"BIBREF6\": {\"ref_id\": \"b6\", \"title\": \"Importance of air particle counts in hospital infection control: insights from a cancer center in Eastern India\", \"authors\": [{\"first\": \"R\", \"middle\": [], \"last\": \"Bhalchandra\", \"suffix\": \"\"}, {\"first\": \"S\", \"middle\": [], \"last\": \"Bhattacharya\", \"suffix\": \"\"}, {\"first\": \"J\", \"middle\": [\"R\"], \"last\": \"Soundaranayagam\", \"suffix\": \"\"}, {\"first\": \"S\", \"middle\": [], \"last\": \"Garai\", \"suffix\": \"\"}, {\"first\": \"M\", \"middle\": [], \"last\": \"Chandy\", \"suffix\": \"\"}], \"year\": 2015, \"venue\": \"Infect Control Hosp Epidemiol\", \"volume\": \"36\", \"issn\": \"9\", \"pages\": \"1115--1117\", \"other_ids\": {}}, \"BIBREF7\": {\"ref_id\": \"b7\", \"title\": \"Early diagnosis of resistant pathogens: how can it improve antimicrobial treatment?\", \"authors\": [{\"first\": \"S\", \"middle\": [], \"last\": \"Bhattacharya\", \"suffix\": \"\"}], \"year\": 2013, \"venue\": \"Virulence\", \"volume\": \"4\", \"issn\": \"2\", \"pages\": \"172--184\", \"other_ids\": {}}, \"BIBREF8\": {\"ref_id\": \"b8\", \"title\": \"Epidemiology of antimicrobial resistance in an oncology center in Eastern India\", \"authors\": [{\"first\": \"S\", \"middle\": [], \"last\": \"Bhattacharya\", \"suffix\": \"\"}, {\"first\": \"G\", \"middle\": [], \"last\": \"Goel\", \"suffix\": \"\"}, {\"first\": \"S\", \"middle\": [], \"last\": \"Mukherjee\", \"suffix\": \"\"}, {\"first\": \"J\", \"middle\": [], \"last\": \"Bhaumik\", \"suffix\": \"\"}, {\"first\": \"M\", \"middle\": [], \"last\": \"Chandy\", \"suffix\": \"\"}], \"year\": 2015, \"venue\": \"Infect Control Hosp Epidemiol\", \"volume\": \"36\", \"issn\": \"7\", \"pages\": \"864--866\", \"other_ids\": {}}, \"BIBREF9\": {\"ref_id\": \"b9\", \"title\": \"Chapter 35 Utility of bacterial surveillance culture in the intensive care unit for choosing empirical antibiotic therapy\", \"authors\": [{\"first\": \"S\", \"middle\": [], \"last\": \"Bhattacharya\", \"suffix\": \"\"}, {\"first\": \"K\", \"middle\": [], \"last\": \"Dhar\", \"suffix\": \"\"}, {\"first\": \"T\", \"middle\": [], \"last\": \"Ghosh\", \"suffix\": \"\"}, {\"first\": \"S\", \"middle\": [], \"last\": \"Das\", \"suffix\": \"\"}], \"year\": 2018, \"venue\": \"Critical care\", \"volume\": \"\", \"issn\": \"\", \"pages\": \"167--170\", \"other_ids\": {}}, \"BIBREF10\": {\"ref_id\": \"b10\", \"title\": \"Antimicrobial Guidelines for prophylaxis and treatment of Infections in Bone Marrow Transplant settings. In: ICMR guideline on: treatment guidelines for antimicrobial use in common syndromes. Indian Council of Medical Research, Department of Health Research\", \"authors\": [{\"first\": \"M\", \"middle\": [], \"last\": \"Chandy\", \"suffix\": \"\"}, {\"first\": \"S\", \"middle\": [], \"last\": \"Bhattacharya\", \"suffix\": \"\"}, {\"first\": \"T\", \"middle\": [], \"last\": \"Chawla\", \"suffix\": \"\"}], \"year\": 2017, \"venue\": \"\", \"volume\": \"\", \"issn\": \"\", \"pages\": \"20--32\", \"other_ids\": {}}, \"BIBREF11\": {\"ref_id\": \"b11\", \"title\": \"Colistin-resistant klebsiella infections among pediatric oncology and hematopoietic stem cell transplantation patients in Eastern India\", \"authors\": [{\"first\": \"M\", \"middle\": [], \"last\": \"Chandy\", \"suffix\": \"\"}, {\"first\": \"A\", \"middle\": [], \"last\": \"Das\", \"suffix\": \"\"}, {\"first\": \"A\", \"middle\": [], \"last\": \"Bhattacharyya\", \"suffix\": \"\"}, {\"first\": \"S\", \"middle\": [], \"last\": \"Banerjee\", \"suffix\": \"\"}, {\"first\": \"K\", \"middle\": [], \"last\": \"Dhar\", \"suffix\": \"\"}, {\"first\": \"G\", \"middle\": [], \"last\": \"Goel\", \"suffix\": \"\"}, {\"first\": \"S\", \"middle\": [], \"last\": \"Bhattacharya\", \"suffix\": \"\"}], \"year\": 2018, \"venue\": \"Infect Control Hosp Epidemiol\", \"volume\": \"39\", \"issn\": \"1\", \"pages\": \"118--121\", \"other_ids\": {}}, \"BIBREF12\": {\"ref_id\": \"b12\", \"title\": \"Rapid and economical detection of eight carbapenem-resistance genes in Enterobacteriaceae, Pseudomonas spp., and Acinetobacter spp. directly from positive blood cultures using an internally controlled multiplex-PCR assay\", \"authors\": [{\"first\": \"S\", \"middle\": [], \"last\": \"Das\", \"suffix\": \"\"}, {\"first\": \"S\", \"middle\": [], \"last\": \"Roy\", \"suffix\": \"\"}, {\"first\": \"S\", \"middle\": [], \"last\": \"Roy\", \"suffix\": \"\"}, {\"first\": \"G\", \"middle\": [], \"last\": \"Goel\", \"suffix\": \"\"}, {\"first\": \"K\", \"middle\": [], \"last\": \"Walia\", \"suffix\": \"\"}, {\"first\": \"S\", \"middle\": [], \"last\": \"Mukherjee\", \"suffix\": \"\"}, {\"first\": \"S\", \"middle\": [], \"last\": \"Bhattacharya\", \"suffix\": \"\"}, {\"first\": \"M\", \"middle\": [], \"last\": \"Chandy\", \"suffix\": \"\"}], \"year\": 2019, \"venue\": \"Infect Control Hosp Epidemiol\", \"volume\": \"40\", \"issn\": \"6\", \"pages\": \"737--739\", \"other_ids\": {}}, \"BIBREF13\": {\"ref_id\": \"b13\", \"title\": \"A low incidence of cytomegalo virus infection following allogeneic hematopoietic stem cell transplantation despite a high seroprevalence\", \"authors\": [{\"first\": \"A\", \"middle\": [\"J\"], \"last\": \"Devasia\", \"suffix\": \"\"}, {\"first\": \"S\", \"middle\": [], \"last\": \"Mammen\", \"suffix\": \"\"}, {\"first\": \"A\", \"middle\": [], \"last\": \"Korula\", \"suffix\": \"\"}, {\"first\": \"A\", \"middle\": [], \"last\": \"Abraham\", \"suffix\": \"\"}, {\"first\": \"N\", \"middle\": [\"A\"], \"last\": \"Fouzia\", \"suffix\": \"\"}, {\"first\": \"K\", \"middle\": [\"M\"], \"last\": \"Lakshmi\", \"suffix\": \"\"}, {\"first\": \"A\", \"middle\": [\"M\"], \"last\": \"Abraham\", \"suffix\": \"\"}, {\"first\": \"A\", \"middle\": [], \"last\": \"Srivastava\", \"suffix\": \"\"}, {\"first\": \"V\", \"middle\": [], \"last\": \"Mathews\", \"suffix\": \"\"}, {\"first\": \"B\", \"middle\": [], \"last\": \"George\", \"suffix\": \"\"}], \"year\": 2018, \"venue\": \"Indian J Hematol Blood Transfus\", \"volume\": \"34\", \"issn\": \"4\", \"pages\": \"636--642\", \"other_ids\": {}}, \"BIBREF14\": {\"ref_id\": \"b14\", \"title\": \"Polyomavirus BK infection in blood and marrow transplant recipients\", \"authors\": [{\"first\": \"L\", \"middle\": [\"K\"], \"last\": \"Dropulic\", \"suffix\": \"\"}, {\"first\": \"R\", \"middle\": [\"J\"], \"last\": \"Jones\", \"suffix\": \"\"}], \"year\": 2008, \"venue\": \"Bone Marrow Transplant\", \"volume\": \"41\", \"issn\": \"1\", \"pages\": \"11--18\", \"other_ids\": {}}, \"BIBREF15\": {\"ref_id\": \"b15\", \"title\": \"Mortality associated with candidemia in nonneutropenic cancer patients is not less compared to a neutropenic cohort of cancer patients\", \"authors\": [{\"first\": \"G\", \"middle\": [], \"last\": \"Goel\", \"suffix\": \"\"}, {\"first\": \"M\", \"middle\": [], \"last\": \"Chandy\", \"suffix\": \"\"}, {\"first\": \"A\", \"middle\": [], \"last\": \"Bhattacharyya\", \"suffix\": \"\"}, {\"first\": \"S\", \"middle\": [], \"last\": \"Banerjee\", \"suffix\": \"\"}, {\"first\": \"S\", \"middle\": [], \"last\": \"Chatterjee\", \"suffix\": \"\"}, {\"first\": \"S\", \"middle\": [], \"last\": \"Mullick\", \"suffix\": \"\"}, {\"first\": \"S\", \"middle\": [], \"last\": \"Sinha\", \"suffix\": \"\"}, {\"first\": \"K\", \"middle\": [], \"last\": \"Sengupta\", \"suffix\": \"\"}, {\"first\": \"K\", \"middle\": [], \"last\": \"Dhar\", \"suffix\": \"\"}, {\"first\": \"S\", \"middle\": [], \"last\": \"Bhattacharya\", \"suffix\": \"\"}, {\"first\": \"S\", \"middle\": [], \"last\": \"Rudramurthy\", \"suffix\": \"\"}, {\"first\": \"A\", \"middle\": [], \"last\": \"Chakrabarti\", \"suffix\": \"\"}], \"year\": 2017, \"venue\": \"Eur J Clin Microbiol Infect Dis\", \"volume\": \"36\", \"issn\": \"12\", \"pages\": \"2533--2535\", \"other_ids\": {}}, \"BIBREF16\": {\"ref_id\": \"b16\", \"title\": \"European Organization for the Research and Treatment of Cancer/Mycoses Study Group (EORTC/MSG) host factors and invasive fungal infections in patients with haematological malignancies\", \"authors\": [{\"first\": \"M\", \"middle\": [], \"last\": \"Hoenigl\", \"suffix\": \"\"}, {\"first\": \"V\", \"middle\": [], \"last\": \"Strenger\", \"suffix\": \"\"}, {\"first\": \"W\", \"middle\": [], \"last\": \"Buzina\", \"suffix\": \"\"}, {\"first\": \"T\", \"middle\": [], \"last\": \"Valentin\", \"suffix\": \"\"}, {\"first\": \"C\", \"middle\": [], \"last\": \"Koidl\", \"suffix\": \"\"}, {\"first\": \"A\", \"middle\": [], \"last\": \"W\\u00f6lfler\", \"suffix\": \"\"}, {\"first\": \"K\", \"middle\": [], \"last\": \"Seeber\", \"suffix\": \"\"}, {\"first\": \"A\", \"middle\": [], \"last\": \"Valentin\", \"suffix\": \"\"}, {\"first\": \"A\", \"middle\": [\"T\"], \"last\": \"Strohmeier\", \"suffix\": \"\"}, {\"first\": \"I\", \"middle\": [], \"last\": \"Zollner-Schwetz\", \"suffix\": \"\"}, {\"first\": \"R\", \"middle\": [\"B\"], \"last\": \"Raggam\", \"suffix\": \"\"}, {\"first\": \"C\", \"middle\": [], \"last\": \"Urban\", \"suffix\": \"\"}, {\"first\": \"C\", \"middle\": [], \"last\": \"Lass-Fl\\u00f6rl\", \"suffix\": \"\"}, {\"first\": \"W\", \"middle\": [], \"last\": \"Linkesch\", \"suffix\": \"\"}, {\"first\": \"R\", \"middle\": [], \"last\": \"Krause\", \"suffix\": \"\"}], \"year\": 2012, \"venue\": \"J Antimicrob Chemother\", \"volume\": \"67\", \"issn\": \"8\", \"pages\": \"2029--2033\", \"other_ids\": {}}, \"BIBREF17\": {\"ref_id\": \"b17\", \"title\": \"Parasitic infections in hematopoietic stem cell transplantation\", \"authors\": [{\"first\": \"I\", \"middle\": [], \"last\": \"Jarque\", \"suffix\": \"\"}, {\"first\": \"M\", \"middle\": [], \"last\": \"Salavert\", \"suffix\": \"\"}, {\"first\": \"J\", \"middle\": [], \"last\": \"Pem\\u00e1n\", \"suffix\": \"\"}], \"year\": 2016, \"venue\": \"Mediterr J Hematol Infect Dis\", \"volume\": \"8\", \"issn\": \"1\", \"pages\": \"\", \"other_ids\": {}}, \"BIBREF18\": {\"ref_id\": \"b18\", \"title\": \"Post stem cell transplantation revaccination: a survey of the current practices in India\", \"authors\": [{\"first\": \"M\", \"middle\": [\"J\"], \"last\": \"John\", \"suffix\": \"\"}, {\"first\": \"A\", \"middle\": [], \"last\": \"Mathew\", \"suffix\": \"\"}, {\"first\": \"S\", \"middle\": [], \"last\": \"Bhat\", \"suffix\": \"\"}, {\"first\": \"A\", \"middle\": [], \"last\": \"Prabhakaran\", \"suffix\": \"\"}, {\"first\": \"B\", \"middle\": [], \"last\": \"George\", \"suffix\": \"\"}, {\"first\": \"J\", \"middle\": [], \"last\": \"John\", \"suffix\": \"\"}], \"year\": 2018, \"venue\": \"Vaccine\", \"volume\": \"36\", \"issn\": \"16\", \"pages\": \"2176--2180\", \"other_ids\": {}}, \"BIBREF19\": {\"ref_id\": \"b19\", \"title\": \"Cytomegalovirus reactivation and disease amongst patients with allogeneic haematopoietic stem cell transplantation in Eastern India: epidemiology, outcome and healthcare cost\", \"authors\": [{\"first\": \"M\", \"middle\": [], \"last\": \"Kumar\", \"suffix\": \"\"}, {\"first\": \"M\", \"middle\": [], \"last\": \"Roychowdhury\", \"suffix\": \"\"}, {\"first\": \"J\", \"middle\": [], \"last\": \"Kumar\", \"suffix\": \"\"}, {\"first\": \"A\", \"middle\": [], \"last\": \"Harishankar\", \"suffix\": \"\"}, {\"first\": \"S\", \"middle\": [], \"last\": \"Sinha\", \"suffix\": \"\"}, {\"first\": \"S\", \"middle\": [\"J\"], \"last\": \"Bhave\", \"suffix\": \"\"}, {\"first\": \"A\", \"middle\": [], \"last\": \"Chakrapani\", \"suffix\": \"\"}, {\"first\": \"V\", \"middle\": [], \"last\": \"Radhakrishnan\", \"suffix\": \"\"}, {\"first\": \"R\", \"middle\": [], \"last\": \"Nair\", \"suffix\": \"\"}, {\"first\": \"S\", \"middle\": [], \"last\": \"Bhattacharya\", \"suffix\": \"\"}, {\"first\": \"M\", \"middle\": [], \"last\": \"Chandy\", \"suffix\": \"\"}], \"year\": 2018, \"venue\": \"Indian J Med Microbiol\", \"volume\": \"36\", \"issn\": \"1\", \"pages\": \"49--53\", \"other_ids\": {}}, \"BIBREF20\": {\"ref_id\": \"b20\", \"title\": \"Post-transplant lymphoproliferative disorder: a review\", \"authors\": [{\"first\": \"A\", \"middle\": [\"W\"], \"last\": \"Loren\", \"suffix\": \"\"}, {\"first\": \"D\", \"middle\": [\"L\"], \"last\": \"Porter\", \"suffix\": \"\"}, {\"first\": \"E\", \"middle\": [\"A\"], \"last\": \"Stadtmauer\", \"suffix\": \"\"}, {\"first\": \"D\", \"middle\": [\"E\"], \"last\": \"Tsai\", \"suffix\": \"\"}], \"year\": 2003, \"venue\": \"Bone Marrow Transplant\", \"volume\": \"31\", \"issn\": \"3\", \"pages\": \"145--155\", \"other_ids\": {}}, \"BIBREF21\": {\"ref_id\": \"b21\", \"title\": \"Clinical outcome, healthcare cost and length of hospital stay among patients with bloodstream infections and acute leukemia in a cancer center in Eastern India\", \"authors\": [{\"first\": \"C\", \"middle\": [\"E\"], \"last\": \"Muennichow\", \"suffix\": \"\"}, {\"first\": \"G\", \"middle\": [], \"last\": \"Goel\", \"suffix\": \"\"}, {\"first\": \"A\", \"middle\": [], \"last\": \"Bhattacharyya\", \"suffix\": \"\"}, {\"first\": \"R\", \"middle\": [], \"last\": \"Nair\", \"suffix\": \"\"}, {\"first\": \"M\", \"middle\": [], \"last\": \"Chandy\", \"suffix\": \"\"}, {\"first\": \"S\", \"middle\": [], \"last\": \"Bhattacharya\", \"suffix\": \"\"}], \"year\": 2018, \"venue\": \"Infect Control Hosp Epidemiol\", \"volume\": \"39\", \"issn\": \"8\", \"pages\": \"\", \"other_ids\": {}}, \"BIBREF22\": {\"ref_id\": \"b22\", \"title\": \"Characteristics of late fatal infections after allogeneic hematopoietic cell transplantation\", \"authors\": [{\"first\": \"M\", \"middle\": [], \"last\": \"Norkin\", \"suffix\": \"\"}, {\"first\": \"B\", \"middle\": [\"E\"], \"last\": \"Shaw\", \"suffix\": \"\"}, {\"first\": \"R\", \"middle\": [], \"last\": \"Brazauskas\", \"suffix\": \"\"}, {\"first\": \"H\", \"middle\": [\"R\"], \"last\": \"Tecca\", \"suffix\": \"\"}, {\"first\": \"H\", \"middle\": [\"L\"], \"last\": \"Leather\", \"suffix\": \"\"}, {\"first\": \"J\", \"middle\": [], \"last\": \"Gea-Banacloche\", \"suffix\": \"\"}, {\"first\": \"R\", \"middle\": [\"T\"], \"last\": \"Kamble\", \"suffix\": \"\"}, {\"first\": \"Z\", \"middle\": [], \"last\": \"Defilipp\", \"suffix\": \"\"}, {\"first\": \"D\", \"middle\": [\"A\"], \"last\": \"Jacobsohn\", \"suffix\": \"\"}, {\"first\": \"O\", \"middle\": [], \"last\": \"Ringden\", \"suffix\": \"\"}, {\"first\": \"Y\", \"middle\": [], \"last\": \"Inamoto\", \"suffix\": \"\"}, {\"first\": \"K\", \"middle\": [\"A\"], \"last\": \"Kasow\", \"suffix\": \"\"}, {\"first\": \"D\", \"middle\": [], \"last\": \"Buchbinder\", \"suffix\": \"\"}, {\"first\": \"P\", \"middle\": [], \"last\": \"Shaw\", \"suffix\": \"\"}, {\"first\": \"P\", \"middle\": [], \"last\": \"Hematti\", \"suffix\": \"\"}, {\"first\": \"R\", \"middle\": [], \"last\": \"Schears\", \"suffix\": \"\"}, {\"first\": \"S\", \"middle\": [\"M\"], \"last\": \"Badawy\", \"suffix\": \"\"}, {\"first\": \"H\", \"middle\": [\"M\"], \"last\": \"Lazarus\", \"suffix\": \"\"}, {\"first\": \"N\", \"middle\": [], \"last\": \"Bhatt\", \"suffix\": \"\"}, {\"first\": \"B\", \"middle\": [], \"last\": \"Horn\", \"suffix\": \"\"}, {\"first\": \"S\", \"middle\": [], \"last\": \"Chhabra\", \"suffix\": \"\"}, {\"first\": \"K\", \"middle\": [\"M\"], \"last\": \"Page\", \"suffix\": \"\"}, {\"first\": \"B\", \"middle\": [], \"last\": \"Hamilton\", \"suffix\": \"\"}, {\"first\": \"G\", \"middle\": [\"C\"], \"last\": \"Hildebrandt\", \"suffix\": \"\"}, {\"first\": \"J\", \"middle\": [\"A\"], \"last\": \"Yared\", \"suffix\": \"\"}, {\"first\": \"V\", \"middle\": [], \"last\": \"Agrawal\", \"suffix\": \"\"}, {\"first\": \"A\", \"middle\": [\"M\"], \"last\": \"Beitinjaneh\", \"suffix\": \"\"}, {\"first\": \"N\", \"middle\": [], \"last\": \"Majhail\", \"suffix\": \"\"}, {\"first\": \"T\", \"middle\": [], \"last\": \"Kindwall-Keller\", \"suffix\": \"\"}, {\"first\": \"R\", \"middle\": [\"F\"], \"last\": \"Olsson\", \"suffix\": \"\"}, {\"first\": \"H\", \"middle\": [], \"last\": \"Schoemans\", \"suffix\": \"\"}, {\"first\": \"R\", \"middle\": [\"P\"], \"last\": \"Gale\", \"suffix\": \"\"}, {\"first\": \"S\", \"middle\": [], \"last\": \"Ganguly\", \"suffix\": \"\"}, {\"first\": \"I\", \"middle\": [\"A\"], \"last\": \"Ahmed\", \"suffix\": \"\"}, {\"first\": \"H\", \"middle\": [\"C\"], \"last\": \"Schouten\", \"suffix\": \"\"}, {\"first\": \"J\", \"middle\": [\"L\"], \"last\": \"Liesveld\", \"suffix\": \"\"}, {\"first\": \"N\", \"middle\": [], \"last\": \"Khera\", \"suffix\": \"\"}, {\"first\": \"A\", \"middle\": [], \"last\": \"Steinberg\", \"suffix\": \"\"}, {\"first\": \"A\", \"middle\": [\"J\"], \"last\": \"Shah\", \"suffix\": \"\"}, {\"first\": \"M\", \"middle\": [], \"last\": \"Solh\", \"suffix\": \"\"}, {\"first\": \"D\", \"middle\": [\"I\"], \"last\": \"Marks\", \"suffix\": \"\"}, {\"first\": \"W\", \"middle\": [], \"last\": \"Rybka\", \"suffix\": \"\"}, {\"first\": \"M\", \"middle\": [], \"last\": \"Aljurf\", \"suffix\": \"\"}, {\"first\": \"A\", \"middle\": [\"C\"], \"last\": \"Dietz\", \"suffix\": \"\"}, {\"first\": \"U\", \"middle\": [], \"last\": \"Gergis\", \"suffix\": \"\"}, {\"first\": \"B\", \"middle\": [], \"last\": \"George\", \"suffix\": \"\"}, {\"first\": \"S\", \"middle\": [], \"last\": \"Seo\", \"suffix\": \"\"}, {\"first\": \"Med\", \"middle\": [], \"last\": \"Flowers\", \"suffix\": \"\"}, {\"first\": \"M\", \"middle\": [], \"last\": \"Battiwalla\", \"suffix\": \"\"}, {\"first\": \"B\", \"middle\": [\"N\"], \"last\": \"Savani\", \"suffix\": \"\"}, {\"first\": \"M\", \"middle\": [\"L\"], \"last\": \"Riches\", \"suffix\": \"\"}, {\"first\": \"J\", \"middle\": [\"R\"], \"last\": \"Wingard\", \"suffix\": \"\"}], \"year\": 2019, \"venue\": \"Biol Blood Marrow Transplant\", \"volume\": \"25\", \"issn\": \"2\", \"pages\": \"362--368\", \"other_ids\": {}}, \"BIBREF23\": {\"ref_id\": \"b23\", \"title\": \"Low incidence of central venous catheter-related bloodstream infections in stem cell transplant patients in Eastern India despite high community burden of multidrug-resistant pathogens\", \"authors\": [{\"first\": \"M\", \"middle\": [], \"last\": \"Roychowdhury\", \"suffix\": \"\"}, {\"first\": \"J\", \"middle\": [], \"last\": \"Kumar\", \"suffix\": \"\"}, {\"first\": \"A\", \"middle\": [], \"last\": \"Chakrapani\", \"suffix\": \"\"}, {\"first\": \"S\", \"middle\": [], \"last\": \"Jayantbhave\", \"suffix\": \"\"}, {\"first\": \"S\", \"middle\": [], \"last\": \"Krishnan\", \"suffix\": \"\"}, {\"first\": \"R\", \"middle\": [], \"last\": \"Thambudorai\", \"suffix\": \"\"}, {\"first\": \"S\", \"middle\": [], \"last\": \"Bhattacharya\", \"suffix\": \"\"}, {\"first\": \"M\", \"middle\": [], \"last\": \"Chandy\", \"suffix\": \"\"}], \"year\": 2016, \"venue\": \"Infect Control Hosp Epidemiol\", \"volume\": \"37\", \"issn\": \"5\", \"pages\": \"619--620\", \"other_ids\": {}}, \"BIBREF24\": {\"ref_id\": \"b24\", \"title\": \"A comparison of lamivudine vs entecavir for prophylaxis of hepatitis B virus reactivation in allogeneic hematopoietic stem cell transplantation recipients: a single-institutional experience\", \"authors\": [{\"first\": \"J\", \"middle\": [], \"last\": \"Shang\", \"suffix\": \"\"}, {\"first\": \"H\", \"middle\": [], \"last\": \"Wang\", \"suffix\": \"\"}, {\"first\": \"J\", \"middle\": [], \"last\": \"Sun\", \"suffix\": \"\"}, {\"first\": \"Z\", \"middle\": [], \"last\": \"Fan\", \"suffix\": \"\"}, {\"first\": \"F\", \"middle\": [], \"last\": \"Huang\", \"suffix\": \"\"}, {\"first\": \"Y\", \"middle\": [], \"last\": \"Zhang\", \"suffix\": \"\"}, {\"first\": \"Q\", \"middle\": [], \"last\": \"Jiang\", \"suffix\": \"\"}, {\"first\": \"M\", \"middle\": [], \"last\": \"Dai\", \"suffix\": \"\"}, {\"first\": \"N\", \"middle\": [], \"last\": \"Xu\", \"suffix\": \"\"}, {\"first\": \"R\", \"middle\": [], \"last\": \"Lin\", \"suffix\": \"\"}, {\"first\": \"Q\", \"middle\": [], \"last\": \"Liu\", \"suffix\": \"\"}], \"year\": 2016, \"venue\": \"Bone Marrow Transplant\", \"volume\": \"51\", \"issn\": \"4\", \"pages\": \"581--586\", \"other_ids\": {}}, \"BIBREF25\": {\"ref_id\": \"b25\", \"title\": \"Pneumocystis carinii pneumonia: a clinical review\", \"authors\": [{\"first\": \"A\", \"middle\": [], \"last\": \"Wilkin\", \"suffix\": \"\"}, {\"first\": \"J\", \"middle\": [], \"last\": \"Feinberg\", \"suffix\": \"\"}], \"year\": 1999, \"venue\": \"Am Fam Physician\", \"volume\": \"60\", \"issn\": \"6\", \"pages\": \"1699--1708\", \"other_ids\": {}}, \"BIBREF26\": {\"ref_id\": \"b26\", \"title\": \"Adenoviral infections in adult allogeneic hematopoietic SCT recipients: a single center experience\", \"authors\": [{\"first\": \"M\", \"middle\": [], \"last\": \"Yilmaz\", \"suffix\": \"\"}, {\"first\": \"R\", \"middle\": [\"F\"], \"last\": \"Chemaly\", \"suffix\": \"\"}, {\"first\": \"X\", \"middle\": [\"Y\"], \"last\": \"Han\", \"suffix\": \"\"}, {\"first\": \"P\", \"middle\": [\"F\"], \"last\": \"Thall\", \"suffix\": \"\"}, {\"first\": \"P\", \"middle\": [\"S\"], \"last\": \"Fox\", \"suffix\": \"\"}, {\"first\": \"J\", \"middle\": [\"J\"], \"last\": \"Tarrand\", \"suffix\": \"\"}, {\"first\": \"De\", \"middle\": [], \"last\": \"Lima\", \"suffix\": \"\"}, {\"first\": \"M\", \"middle\": [\"J\"], \"last\": \"Hosing\", \"suffix\": \"\"}, {\"first\": \"C\", \"middle\": [\"M\"], \"last\": \"Popat\", \"suffix\": \"\"}, {\"first\": \"U\", \"middle\": [\"R\"], \"last\": \"Shpall\", \"suffix\": \"\"}, {\"first\": \"E\", \"middle\": [], \"last\": \"Champlin\", \"suffix\": \"\"}, {\"first\": \"R\", \"middle\": [\"E\"], \"last\": \"Qazilbash\", \"suffix\": \"\"}, {\"first\": \"M\", \"middle\": [\"H\"], \"last\": \"\", \"suffix\": \"\"}], \"year\": 2013, \"venue\": \"Bone Marrow Transplant\", \"volume\": \"48\", \"issn\": \"9\", \"pages\": \"1218--1223\", \"other_ids\": {}}}, \"ref_entries\": {\"TABREF0\": {\"text\": \"Varicella-zoster virus IgG antibody 2. Immunizationshttps://www.nature.com/arti\", \"latex\": null, \"type\": \"table\"}, \"TABREF1\": {\"text\": \"Common infection-related clinical syndromes in patients undergoing HSCT (hematopoietic stem cell transplantation) Clinical syndromes Infection-related differential diagnosis Noninfective differential diagnosis CLABSI Gram-negative bacilli; Gram-positive cocci; Candida spp. Infusion-or transfusion-related event CMV disease EBV viremia and disease; adenovirus viremia and disease Please see later Diarrhea Bacterial, viral, parasitic causes of gastroenteritis; Clostridium difficile-associated diarrhea; CMV colitis Graft versus host disease Encephalitis HSV, VZV, CMV encephalitis Septic or metabolic encephalopathy Enterocolitis Gram-positive and Gram-negative bacteria; infectious causes of diarrhea/dysentery; CMV colitis Conditioning related (chemotherapy or TBI related) Pneumonia Gram-negative bacteria; Gram-positive bacteria; Aspergillus; Mucor; CMV, adenovirus; respiratory viruses Transfusion-related acute lung injury (TRALI); Gram-positive/Gram-negative bacterial, fungal Disease infiltration Upper respiratory tract infection Influenza and other respiratory viruses Disease infiltration; cytokine release syndrome Aspergillus spp Epstein Barr PTLD Other viruses: HHV-6, respiratory and enteric Adopted from (2). PTLD: pst-transplant lymphoprolifeative disorder Aspergillus spp III: late phase (days 100 to >365)Fig. 1 Chronology of predominant infections after HSCT (hematopoietic stem cell transplantation). (Adapted from EBMT Handbook 2012)\", \"latex\": null, \"type\": \"table\"}}, \"back_matter\": []}"
     ]
    }
   ],
   "source": [
    "!head -n 4 json1line_COVID_papers/0000b93c66f991236db92dc16fa6db119b27ca12.json"
   ]
  },
  {
   "cell_type": "code",
   "execution_count": 83,
   "metadata": {},
   "outputs": [],
   "source": [
    "#Read of the papers\n",
    "! rm foo.bar\n",
    "! ls COVID_papers >> foo.bar\n",
    "#smaller dataset for various tests without the whole cluster\n",
    "! rm foo2.bar\n",
    "! ls COVID_papers_radio_edit >> foo2.bar"
   ]
  },
  {
   "cell_type": "code",
   "execution_count": 5,
   "metadata": {},
   "outputs": [],
   "source": [
    "def opener_func(filename):\n",
    "    f = open(filename,'r')\n",
    "    dictio = json.load(f)\n",
    "    f.close()\n",
    "    return dictio"
   ]
  },
  {
   "cell_type": "code",
   "execution_count": 29,
   "metadata": {},
   "outputs": [
    {
     "data": {
      "text/plain": [
       "dask.bag<repartition, npartitions=15>"
      ]
     },
     "execution_count": 29,
     "metadata": {},
     "output_type": "execute_result"
    }
   ],
   "source": [
    "import dask.bag as db\n",
    "import json\n",
    "from urllib.request import urlopen\n",
    "\n",
    "#b = db.read_text(\"foo.bar\").map(lambda string: string.strip()).map(lambda string: \"COVID_papers/\"+string).map(open).map(json.load)\n",
    "#b = db.read_text(\"https://raw.githubusercontent.com/Luca-Negri/Meta_Analysis_of_COVID_papers/main/foo.bar\").map(lambda string: string.strip()).map(lambda string: \"Meta_Analysis_of_COVID_papers/COVID_papers/\"+string).map(open).map(json.load)\n",
    "\n",
    "#b = db.read_text(\"https://raw.githubusercontent.com/Luca-Negri/Meta_Analysis_of_COVID_papers/main/foo.bar\").map(lambda string: string.strip()).map(lambda string: \"COVID_papers/\"+string).map(open).map(json.load)\n",
    "\n",
    "! rm dummy.mapd\n",
    "! ls COVID_papers >> dummy.mapd \n",
    "#with open('dummy.mapd') as file:\n",
    "#    flist = ['Meta_Analysis_of_COVID_papers/COVID_papers/'+i.strip() for i in file]\n",
    "with open('dummy.mapd') as file:\n",
    "    flist = ['json1line_COVID_papers/'+i.strip() for i in file]\n",
    "with open('dummy.mapd') as file:\n",
    "    flistgit = ['https://raw.githubusercontent.com/Luca-Negri/Meta_Analysis_of_COVID_papers/main/json1line_COVID_papers/'+i.strip() for i in file]\n",
    "\n",
    "#b = db.from_sequence(flist).map(open).map(json.load).repartition(90)\n",
    "#b = db.from_sequence(flist).map(opener_func).repartition(90)\n",
    "\n",
    "#b = b.repartition(len(flist))#select the number of partitions \n",
    "b = db.read_text(flist).map(json.loads).repartition(15) \n",
    "b"
   ]
  },
  {
   "cell_type": "code",
   "execution_count": 7,
   "metadata": {},
   "outputs": [
    {
     "name": "stdout",
     "output_type": "stream",
     "text": [
      "Help on function read_text in module dask.bag.text:\n",
      "\n",
      "read_text(urlpath, blocksize=None, compression='infer', encoding='utf-8', errors='strict', linedelimiter=None, collection=True, storage_options=None, files_per_partition=None, include_path=False)\n",
      "    Read lines from text files\n",
      "    \n",
      "    Parameters\n",
      "    ----------\n",
      "    urlpath : string or list\n",
      "        Absolute or relative filepath(s). Prefix with a protocol like ``s3://``\n",
      "        to read from alternative filesystems. To read from multiple files you\n",
      "        can pass a globstring or a list of paths, with the caveat that they\n",
      "        must all have the same protocol.\n",
      "    blocksize: None, int, or str\n",
      "        Size (in bytes) to cut up larger files.  Streams by default.\n",
      "        Can be ``None`` for streaming, an integer number of bytes, or a string\n",
      "        like \"128MiB\"\n",
      "    compression: string\n",
      "        Compression format like 'gzip' or 'xz'.  Defaults to 'infer'\n",
      "    encoding: string\n",
      "    errors: string\n",
      "    linedelimiter: string or None\n",
      "    collection: bool, optional\n",
      "        Return dask.bag if True, or list of delayed values if false\n",
      "    storage_options: dict\n",
      "        Extra options that make sense to a particular storage connection, e.g.\n",
      "        host, port, username, password, etc.\n",
      "    files_per_partition: None or int\n",
      "        If set, group input files into partitions of the requested size,\n",
      "        instead of one partition per file. Mutually exclusive with blocksize.\n",
      "    include_path: bool\n",
      "        Whether or not to include the path in the bag.\n",
      "        If true, elements are tuples of (line, path).\n",
      "        Default is False.\n",
      "    \n",
      "    Examples\n",
      "    --------\n",
      "    >>> b = read_text('myfiles.1.txt')  # doctest: +SKIP\n",
      "    >>> b = read_text('myfiles.*.txt')  # doctest: +SKIP\n",
      "    >>> b = read_text('myfiles.*.txt.gz')  # doctest: +SKIP\n",
      "    >>> b = read_text('s3://bucket/myfiles.*.txt')  # doctest: +SKIP\n",
      "    >>> b = read_text('s3://key:secret@bucket/myfiles.*.txt')  # doctest: +SKIP\n",
      "    >>> b = read_text('hdfs://namenode.example.com/myfiles.*.txt')  # doctest: +SKIP\n",
      "    \n",
      "    Parallelize a large file by providing the number of uncompressed bytes to\n",
      "    load into each partition.\n",
      "    \n",
      "    >>> b = read_text('largefile.txt', blocksize='10MB')  # doctest: +SKIP\n",
      "    \n",
      "    Get file paths of the bag by setting include_path=True\n",
      "    \n",
      "    >>> b = read_text('myfiles.*.txt', include_path=True) # doctest: +SKIP\n",
      "    >>> b.take(1) # doctest: +SKIP\n",
      "    (('first line of the first file', '/home/dask/myfiles.0.txt'),)\n",
      "    \n",
      "    Returns\n",
      "    -------\n",
      "    dask.bag.Bag or list\n",
      "        dask.bag.Bag if collection is True or list of Delayed lists otherwise.\n",
      "    \n",
      "    See Also\n",
      "    --------\n",
      "    from_sequence: Build bag from Python sequence\n",
      "\n"
     ]
    }
   ],
   "source": [
    "help(db.read_text)"
   ]
  },
  {
   "cell_type": "code",
   "execution_count": 10,
   "metadata": {},
   "outputs": [
    {
     "name": "stdout",
     "output_type": "stream",
     "text": [
      "1184\n",
      "23.58212900161743\n"
     ]
    }
   ],
   "source": [
    "time1 = time.time()\n",
    "print(len(b.compute()))\n",
    "print(time.time() - time1)"
   ]
  },
  {
   "cell_type": "code",
   "execution_count": 31,
   "metadata": {},
   "outputs": [],
   "source": [
    "def concatenate_text(paper_dict):\n",
    "    \n",
    "    \"\"\"Function to tranform the body text field of the json files into a clean and usable \n",
    "        format, by concatenating the sections and removing unwanted characters\n",
    "        \n",
    "        \n",
    "        Arguments:\n",
    "        paper_dict ::: python dictionary containing the paper read from the JSON files\n",
    "        \n",
    "        \n",
    "        Returns:\n",
    "        paper_dict ::: now the \"body_text\" contains all the text sections concatenated\n",
    "        \n",
    "        \n",
    "        \"\"\"\n",
    "    print('Concatenate!' + paper_dict['paper_id'])\n",
    "    \n",
    "    body_text_list  = paper_dict['body_text'] #read of the text\n",
    "    \n",
    "    #concatenation of every section into one text file\n",
    "    total_text = ''\n",
    "    for text_section in body_text_list:\n",
    "        total_text += text_section['text']\n",
    "        \n",
    "    total_text = total_text.lower()#lowercase everything\n",
    "        \n",
    "    # deteleting all unwanted characters\n",
    "    \n",
    "    \n",
    "    forbidden_chars = \".,()[]:*><;°%/+'\"\n",
    "    for forbidden_ch in forbidden_chars:\n",
    "        \n",
    "        total_text = total_text.replace(forbidden_ch,\"\")\n",
    "        \n",
    "    #paper_dict['body_text'] = total_text\n",
    "    \n",
    "    return total_text\n",
    "    \n",
    "    \n",
    "def word_count(body_text):\n",
    "     \n",
    "    \"\"\"Function to count the occurencies of each word in the document using numpy functions\n",
    "    \n",
    "        Arguments:\n",
    "        \n",
    "        paper_dict ::: python dictionary containing the paper read from the JSON files\n",
    "    \n",
    "        \n",
    "        Retrurns\n",
    "        \n",
    "        word_counts ::: python dictionary containing each word as key and the number of occurencies as value\n",
    "    \n",
    "    \"\"\"\n",
    "    \n",
    "    #import numpy as np # define right namespace\n",
    "    print('io conto!')\n",
    "    #body_text = paper_dict['body_text']# get the text\n",
    "    text_list = body_text.split() # transform into a list\n",
    "    \n",
    "    words, counts = np.unique(text_list, return_counts  = True) # count the words\n",
    "    \n",
    "    word_counts = {key : count for key,count in zip(words, counts)} # transform into a dictionary\n",
    "    #paper_dict['word_count'] = word_counts # add dictionary  to json\n",
    "    \n",
    "    return word_counts\n",
    "\n",
    "\n",
    "def word_dellamadonna(paper_dict):\n",
    "    \n",
    "    print('Concatenate!' + paper_dict['paper_id'])\n",
    "    \n",
    "    body_text_list  = paper_dict['body_text'] #read of the text\n",
    "    \n",
    "    #concatenation of every section into one text file\n",
    "    total_text = ''\n",
    "    for text_section in body_text_list:\n",
    "        total_text += text_section['text']\n",
    "        \n",
    "    total_text = total_text.lower()#lowercase everything\n",
    "        \n",
    "    # deteleting all unwanted characters\n",
    "    \n",
    "    \n",
    "    forbidden_chars = \".,()[]:*><;°%/+\"\n",
    "    \n",
    "    for forbidden_ch in forbidden_chars:\n",
    "        \n",
    "        total_text = total_text.replace(forbidden_ch,\"\")\n",
    "    \n",
    "    total_text = total_text.replace('\"','')\n",
    "        \n",
    "        \n",
    "    #nofwords_counter\n",
    "        \n",
    "    text_list = total_text.split() # transform into a list\n",
    "    \n",
    "    words, counts = np.unique(text_list, return_counts  = True) # count the words\n",
    "    \n",
    "    word_counts = [(key , count) for key,count in zip(words, counts)]# transform into a dictionary\n",
    "    #word_counts = [{key : count} for key,count in zip(words, counts)]# transform into a dictionary\n",
    "    \n",
    "    #paper_dict['word_count'] = word_counts # add dictionary  to json\n",
    "    \n",
    "    \n",
    "    \n",
    "    return word_counts\n",
    "\n",
    "def word_dellamadonna2(body_text_list):\n",
    "    \n",
    "    #print('Concatenate!' + paper_dict['paper_id'])\n",
    "    \n",
    "    #body_text_list  = paper_dict['body_text'] #read of the text\n",
    "    \n",
    "    #concatenation of every section into one text file\n",
    "    total_text = ''\n",
    "    for text_section in body_text_list:\n",
    "        total_text += text_section['text']\n",
    "        \n",
    "    total_text = total_text.lower()#lowercase everything\n",
    "        \n",
    "    # deteleting all unwanted characters\n",
    "    \n",
    "    \n",
    "    forbidden_chars = \".,()[]:*><;°%/+-=1234567890\"\n",
    "    \n",
    "    for forbidden_ch in forbidden_chars:\n",
    "        \n",
    "        total_text = total_text.replace(forbidden_ch,\"\")\n",
    "    \n",
    "    total_text = total_text.replace('\"','')\n",
    "        \n",
    "        \n",
    "    #nofwords_counter\n",
    "        \n",
    "    text_list = total_text.split() # transform into a list\n",
    "    \n",
    "    \n",
    "    words, counts = np.unique(text_list, return_counts  = True) # count the words\n",
    "    \n",
    "    word_counts = [(key , count) for key,count in zip(words, counts)]\n",
    "\n",
    "    \n",
    "    \n",
    "    \n",
    "    return word_counts\n",
    "\n",
    "    \n",
    "    \n",
    "    "
   ]
  },
  {
   "cell_type": "code",
   "execution_count": 32,
   "metadata": {},
   "outputs": [],
   "source": [
    "def reduce_counts(word_list1,word_list2):\n",
    "    \n",
    "    \"\"\"Combines the results od two dictionaries\"\"\"\n",
    "    \n",
    "    #print('io pure!')\n",
    "    #obtaining the keys\n",
    "    word_list_out = word_list1\n",
    "\n",
    "    try:\n",
    "        keys1 = list(word_list1.keys())\n",
    "        keys2 = list(word_list2.keys())\n",
    "\n",
    "        print('io pure! ' + keys1[0] + '///' + keys2[0])\n",
    "        #print('hey ...')\n",
    "        word_list_out = word_list1\n",
    "\n",
    "        #add one value to the other\n",
    "        for key2 in keys2:\n",
    "                #check if already present\n",
    "                if key2 not in keys1:\n",
    "                    word_list_out[key2] = word_list2[key2]\n",
    "                else:\n",
    "                    word_list_out[key2] += word_list2[key2]\n",
    "    except:\n",
    "        print('Ma che cazzo porc-')\n",
    "        \n",
    "    return word_list_out\n",
    "        \n",
    "    \n",
    "    "
   ]
  },
  {
   "cell_type": "code",
   "execution_count": 25,
   "metadata": {},
   "outputs": [
    {
     "ename": "FileNotFoundError",
     "evalue": "[Errno 2] No such file or directory: '/home/lnegri/Downloads/Meta_Analysis_of_COVID_papers/Meta_Analysis_of_COVID_papers/COVID_papers/0000b93c66f991236db92dc16fa6db119b27ca12.json'",
     "output_type": "error",
     "traceback": [
      "\u001b[0;31m---------------------------------------------------------------------------\u001b[0m",
      "\u001b[0;31mFileNotFoundError\u001b[0m                         Traceback (most recent call last)",
      "\u001b[0;32m<ipython-input-25-02bce59d83b6>\u001b[0m in \u001b[0;36m<module>\u001b[0;34m\u001b[0m\n\u001b[1;32m      8\u001b[0m \u001b[0;34m\u001b[0m\u001b[0m\n\u001b[1;32m      9\u001b[0m \u001b[0;31m#b_final = db.from_sequence(flist).repartition(len(flist)).map(open).map(json.load).map(word_dellamadonna).compute()#.fold(reduce_counts).compute()\u001b[0m\u001b[0;34m\u001b[0m\u001b[0;34m\u001b[0m\u001b[0;34m\u001b[0m\u001b[0m\n\u001b[0;32m---> 10\u001b[0;31m \u001b[0moh\u001b[0m \u001b[0;34m=\u001b[0m \u001b[0mb_count\u001b[0m\u001b[0;34m.\u001b[0m\u001b[0mcompute\u001b[0m\u001b[0;34m(\u001b[0m\u001b[0;34m)\u001b[0m\u001b[0;34m\u001b[0m\u001b[0;34m\u001b[0m\u001b[0m\n\u001b[0m\u001b[1;32m     11\u001b[0m \u001b[0mprint\u001b[0m\u001b[0;34m(\u001b[0m\u001b[0mtime\u001b[0m\u001b[0;34m.\u001b[0m\u001b[0mtime\u001b[0m\u001b[0;34m(\u001b[0m\u001b[0;34m)\u001b[0m \u001b[0;34m-\u001b[0m \u001b[0mtime1\u001b[0m\u001b[0;34m)\u001b[0m\u001b[0;34m\u001b[0m\u001b[0;34m\u001b[0m\u001b[0m\n",
      "\u001b[0;32m~/.local/lib/python3.8/site-packages/dask/base.py\u001b[0m in \u001b[0;36mcompute\u001b[0;34m(self, **kwargs)\u001b[0m\n\u001b[1;32m    283\u001b[0m         \u001b[0mdask\u001b[0m\u001b[0;34m.\u001b[0m\u001b[0mbase\u001b[0m\u001b[0;34m.\u001b[0m\u001b[0mcompute\u001b[0m\u001b[0;34m\u001b[0m\u001b[0;34m\u001b[0m\u001b[0m\n\u001b[1;32m    284\u001b[0m         \"\"\"\n\u001b[0;32m--> 285\u001b[0;31m         \u001b[0;34m(\u001b[0m\u001b[0mresult\u001b[0m\u001b[0;34m,\u001b[0m\u001b[0;34m)\u001b[0m \u001b[0;34m=\u001b[0m \u001b[0mcompute\u001b[0m\u001b[0;34m(\u001b[0m\u001b[0mself\u001b[0m\u001b[0;34m,\u001b[0m \u001b[0mtraverse\u001b[0m\u001b[0;34m=\u001b[0m\u001b[0;32mFalse\u001b[0m\u001b[0;34m,\u001b[0m \u001b[0;34m**\u001b[0m\u001b[0mkwargs\u001b[0m\u001b[0;34m)\u001b[0m\u001b[0;34m\u001b[0m\u001b[0;34m\u001b[0m\u001b[0m\n\u001b[0m\u001b[1;32m    286\u001b[0m         \u001b[0;32mreturn\u001b[0m \u001b[0mresult\u001b[0m\u001b[0;34m\u001b[0m\u001b[0;34m\u001b[0m\u001b[0m\n\u001b[1;32m    287\u001b[0m \u001b[0;34m\u001b[0m\u001b[0m\n",
      "\u001b[0;32m~/.local/lib/python3.8/site-packages/dask/base.py\u001b[0m in \u001b[0;36mcompute\u001b[0;34m(*args, **kwargs)\u001b[0m\n\u001b[1;32m    565\u001b[0m         \u001b[0mpostcomputes\u001b[0m\u001b[0;34m.\u001b[0m\u001b[0mappend\u001b[0m\u001b[0;34m(\u001b[0m\u001b[0mx\u001b[0m\u001b[0;34m.\u001b[0m\u001b[0m__dask_postcompute__\u001b[0m\u001b[0;34m(\u001b[0m\u001b[0;34m)\u001b[0m\u001b[0;34m)\u001b[0m\u001b[0;34m\u001b[0m\u001b[0;34m\u001b[0m\u001b[0m\n\u001b[1;32m    566\u001b[0m \u001b[0;34m\u001b[0m\u001b[0m\n\u001b[0;32m--> 567\u001b[0;31m     \u001b[0mresults\u001b[0m \u001b[0;34m=\u001b[0m \u001b[0mschedule\u001b[0m\u001b[0;34m(\u001b[0m\u001b[0mdsk\u001b[0m\u001b[0;34m,\u001b[0m \u001b[0mkeys\u001b[0m\u001b[0;34m,\u001b[0m \u001b[0;34m**\u001b[0m\u001b[0mkwargs\u001b[0m\u001b[0;34m)\u001b[0m\u001b[0;34m\u001b[0m\u001b[0;34m\u001b[0m\u001b[0m\n\u001b[0m\u001b[1;32m    568\u001b[0m     \u001b[0;32mreturn\u001b[0m \u001b[0mrepack\u001b[0m\u001b[0;34m(\u001b[0m\u001b[0;34m[\u001b[0m\u001b[0mf\u001b[0m\u001b[0;34m(\u001b[0m\u001b[0mr\u001b[0m\u001b[0;34m,\u001b[0m \u001b[0;34m*\u001b[0m\u001b[0ma\u001b[0m\u001b[0;34m)\u001b[0m \u001b[0;32mfor\u001b[0m \u001b[0mr\u001b[0m\u001b[0;34m,\u001b[0m \u001b[0;34m(\u001b[0m\u001b[0mf\u001b[0m\u001b[0;34m,\u001b[0m \u001b[0ma\u001b[0m\u001b[0;34m)\u001b[0m \u001b[0;32min\u001b[0m \u001b[0mzip\u001b[0m\u001b[0;34m(\u001b[0m\u001b[0mresults\u001b[0m\u001b[0;34m,\u001b[0m \u001b[0mpostcomputes\u001b[0m\u001b[0;34m)\u001b[0m\u001b[0;34m]\u001b[0m\u001b[0;34m)\u001b[0m\u001b[0;34m\u001b[0m\u001b[0;34m\u001b[0m\u001b[0m\n\u001b[1;32m    569\u001b[0m \u001b[0;34m\u001b[0m\u001b[0m\n",
      "\u001b[0;32m~/.local/lib/python3.8/site-packages/distributed/client.py\u001b[0m in \u001b[0;36mget\u001b[0;34m(self, dsk, keys, workers, allow_other_workers, resources, sync, asynchronous, direct, retries, priority, fifo_timeout, actors, **kwargs)\u001b[0m\n\u001b[1;32m   2705\u001b[0m                     \u001b[0mshould_rejoin\u001b[0m \u001b[0;34m=\u001b[0m \u001b[0;32mFalse\u001b[0m\u001b[0;34m\u001b[0m\u001b[0;34m\u001b[0m\u001b[0m\n\u001b[1;32m   2706\u001b[0m             \u001b[0;32mtry\u001b[0m\u001b[0;34m:\u001b[0m\u001b[0;34m\u001b[0m\u001b[0;34m\u001b[0m\u001b[0m\n\u001b[0;32m-> 2707\u001b[0;31m                 \u001b[0mresults\u001b[0m \u001b[0;34m=\u001b[0m \u001b[0mself\u001b[0m\u001b[0;34m.\u001b[0m\u001b[0mgather\u001b[0m\u001b[0;34m(\u001b[0m\u001b[0mpacked\u001b[0m\u001b[0;34m,\u001b[0m \u001b[0masynchronous\u001b[0m\u001b[0;34m=\u001b[0m\u001b[0masynchronous\u001b[0m\u001b[0;34m,\u001b[0m \u001b[0mdirect\u001b[0m\u001b[0;34m=\u001b[0m\u001b[0mdirect\u001b[0m\u001b[0;34m)\u001b[0m\u001b[0;34m\u001b[0m\u001b[0;34m\u001b[0m\u001b[0m\n\u001b[0m\u001b[1;32m   2708\u001b[0m             \u001b[0;32mfinally\u001b[0m\u001b[0;34m:\u001b[0m\u001b[0;34m\u001b[0m\u001b[0;34m\u001b[0m\u001b[0m\n\u001b[1;32m   2709\u001b[0m                 \u001b[0;32mfor\u001b[0m \u001b[0mf\u001b[0m \u001b[0;32min\u001b[0m \u001b[0mfutures\u001b[0m\u001b[0;34m.\u001b[0m\u001b[0mvalues\u001b[0m\u001b[0;34m(\u001b[0m\u001b[0;34m)\u001b[0m\u001b[0;34m:\u001b[0m\u001b[0;34m\u001b[0m\u001b[0;34m\u001b[0m\u001b[0m\n",
      "\u001b[0;32m~/.local/lib/python3.8/site-packages/distributed/client.py\u001b[0m in \u001b[0;36mgather\u001b[0;34m(self, futures, errors, direct, asynchronous)\u001b[0m\n\u001b[1;32m   2019\u001b[0m             \u001b[0;32melse\u001b[0m\u001b[0;34m:\u001b[0m\u001b[0;34m\u001b[0m\u001b[0;34m\u001b[0m\u001b[0m\n\u001b[1;32m   2020\u001b[0m                 \u001b[0mlocal_worker\u001b[0m \u001b[0;34m=\u001b[0m \u001b[0;32mNone\u001b[0m\u001b[0;34m\u001b[0m\u001b[0;34m\u001b[0m\u001b[0m\n\u001b[0;32m-> 2021\u001b[0;31m             return self.sync(\n\u001b[0m\u001b[1;32m   2022\u001b[0m                 \u001b[0mself\u001b[0m\u001b[0;34m.\u001b[0m\u001b[0m_gather\u001b[0m\u001b[0;34m,\u001b[0m\u001b[0;34m\u001b[0m\u001b[0;34m\u001b[0m\u001b[0m\n\u001b[1;32m   2023\u001b[0m                 \u001b[0mfutures\u001b[0m\u001b[0;34m,\u001b[0m\u001b[0;34m\u001b[0m\u001b[0;34m\u001b[0m\u001b[0m\n",
      "\u001b[0;32m~/.local/lib/python3.8/site-packages/distributed/client.py\u001b[0m in \u001b[0;36msync\u001b[0;34m(self, func, asynchronous, callback_timeout, *args, **kwargs)\u001b[0m\n\u001b[1;32m    860\u001b[0m             \u001b[0;32mreturn\u001b[0m \u001b[0mfuture\u001b[0m\u001b[0;34m\u001b[0m\u001b[0;34m\u001b[0m\u001b[0m\n\u001b[1;32m    861\u001b[0m         \u001b[0;32melse\u001b[0m\u001b[0;34m:\u001b[0m\u001b[0;34m\u001b[0m\u001b[0;34m\u001b[0m\u001b[0m\n\u001b[0;32m--> 862\u001b[0;31m             return sync(\n\u001b[0m\u001b[1;32m    863\u001b[0m                 \u001b[0mself\u001b[0m\u001b[0;34m.\u001b[0m\u001b[0mloop\u001b[0m\u001b[0;34m,\u001b[0m \u001b[0mfunc\u001b[0m\u001b[0;34m,\u001b[0m \u001b[0;34m*\u001b[0m\u001b[0margs\u001b[0m\u001b[0;34m,\u001b[0m \u001b[0mcallback_timeout\u001b[0m\u001b[0;34m=\u001b[0m\u001b[0mcallback_timeout\u001b[0m\u001b[0;34m,\u001b[0m \u001b[0;34m**\u001b[0m\u001b[0mkwargs\u001b[0m\u001b[0;34m\u001b[0m\u001b[0;34m\u001b[0m\u001b[0m\n\u001b[1;32m    864\u001b[0m             )\n",
      "\u001b[0;32m~/.local/lib/python3.8/site-packages/distributed/utils.py\u001b[0m in \u001b[0;36msync\u001b[0;34m(loop, func, callback_timeout, *args, **kwargs)\u001b[0m\n\u001b[1;32m    336\u001b[0m     \u001b[0;32mif\u001b[0m \u001b[0merror\u001b[0m\u001b[0;34m[\u001b[0m\u001b[0;36m0\u001b[0m\u001b[0;34m]\u001b[0m\u001b[0;34m:\u001b[0m\u001b[0;34m\u001b[0m\u001b[0;34m\u001b[0m\u001b[0m\n\u001b[1;32m    337\u001b[0m         \u001b[0mtyp\u001b[0m\u001b[0;34m,\u001b[0m \u001b[0mexc\u001b[0m\u001b[0;34m,\u001b[0m \u001b[0mtb\u001b[0m \u001b[0;34m=\u001b[0m \u001b[0merror\u001b[0m\u001b[0;34m[\u001b[0m\u001b[0;36m0\u001b[0m\u001b[0;34m]\u001b[0m\u001b[0;34m\u001b[0m\u001b[0;34m\u001b[0m\u001b[0m\n\u001b[0;32m--> 338\u001b[0;31m         \u001b[0;32mraise\u001b[0m \u001b[0mexc\u001b[0m\u001b[0;34m.\u001b[0m\u001b[0mwith_traceback\u001b[0m\u001b[0;34m(\u001b[0m\u001b[0mtb\u001b[0m\u001b[0;34m)\u001b[0m\u001b[0;34m\u001b[0m\u001b[0;34m\u001b[0m\u001b[0m\n\u001b[0m\u001b[1;32m    339\u001b[0m     \u001b[0;32melse\u001b[0m\u001b[0;34m:\u001b[0m\u001b[0;34m\u001b[0m\u001b[0;34m\u001b[0m\u001b[0m\n\u001b[1;32m    340\u001b[0m         \u001b[0;32mreturn\u001b[0m \u001b[0mresult\u001b[0m\u001b[0;34m[\u001b[0m\u001b[0;36m0\u001b[0m\u001b[0;34m]\u001b[0m\u001b[0;34m\u001b[0m\u001b[0;34m\u001b[0m\u001b[0m\n",
      "\u001b[0;32m~/.local/lib/python3.8/site-packages/distributed/utils.py\u001b[0m in \u001b[0;36mf\u001b[0;34m()\u001b[0m\n\u001b[1;32m    319\u001b[0m             \u001b[0;32mif\u001b[0m \u001b[0mcallback_timeout\u001b[0m \u001b[0;32mis\u001b[0m \u001b[0;32mnot\u001b[0m \u001b[0;32mNone\u001b[0m\u001b[0;34m:\u001b[0m\u001b[0;34m\u001b[0m\u001b[0;34m\u001b[0m\u001b[0m\n\u001b[1;32m    320\u001b[0m                 \u001b[0mfuture\u001b[0m \u001b[0;34m=\u001b[0m \u001b[0masyncio\u001b[0m\u001b[0;34m.\u001b[0m\u001b[0mwait_for\u001b[0m\u001b[0;34m(\u001b[0m\u001b[0mfuture\u001b[0m\u001b[0;34m,\u001b[0m \u001b[0mcallback_timeout\u001b[0m\u001b[0;34m)\u001b[0m\u001b[0;34m\u001b[0m\u001b[0;34m\u001b[0m\u001b[0m\n\u001b[0;32m--> 321\u001b[0;31m             \u001b[0mresult\u001b[0m\u001b[0;34m[\u001b[0m\u001b[0;36m0\u001b[0m\u001b[0;34m]\u001b[0m \u001b[0;34m=\u001b[0m \u001b[0;32myield\u001b[0m \u001b[0mfuture\u001b[0m\u001b[0;34m\u001b[0m\u001b[0;34m\u001b[0m\u001b[0m\n\u001b[0m\u001b[1;32m    322\u001b[0m         \u001b[0;32mexcept\u001b[0m \u001b[0mException\u001b[0m\u001b[0;34m:\u001b[0m\u001b[0;34m\u001b[0m\u001b[0;34m\u001b[0m\u001b[0m\n\u001b[1;32m    323\u001b[0m             \u001b[0merror\u001b[0m\u001b[0;34m[\u001b[0m\u001b[0;36m0\u001b[0m\u001b[0;34m]\u001b[0m \u001b[0;34m=\u001b[0m \u001b[0msys\u001b[0m\u001b[0;34m.\u001b[0m\u001b[0mexc_info\u001b[0m\u001b[0;34m(\u001b[0m\u001b[0;34m)\u001b[0m\u001b[0;34m\u001b[0m\u001b[0;34m\u001b[0m\u001b[0m\n",
      "\u001b[0;32m~/.local/lib/python3.8/site-packages/tornado/gen.py\u001b[0m in \u001b[0;36mrun\u001b[0;34m(self)\u001b[0m\n\u001b[1;32m    760\u001b[0m \u001b[0;34m\u001b[0m\u001b[0m\n\u001b[1;32m    761\u001b[0m                     \u001b[0;32mtry\u001b[0m\u001b[0;34m:\u001b[0m\u001b[0;34m\u001b[0m\u001b[0;34m\u001b[0m\u001b[0m\n\u001b[0;32m--> 762\u001b[0;31m                         \u001b[0mvalue\u001b[0m \u001b[0;34m=\u001b[0m \u001b[0mfuture\u001b[0m\u001b[0;34m.\u001b[0m\u001b[0mresult\u001b[0m\u001b[0;34m(\u001b[0m\u001b[0;34m)\u001b[0m\u001b[0;34m\u001b[0m\u001b[0;34m\u001b[0m\u001b[0m\n\u001b[0m\u001b[1;32m    763\u001b[0m                     \u001b[0;32mexcept\u001b[0m \u001b[0mException\u001b[0m\u001b[0;34m:\u001b[0m\u001b[0;34m\u001b[0m\u001b[0;34m\u001b[0m\u001b[0m\n\u001b[1;32m    764\u001b[0m                         \u001b[0mexc_info\u001b[0m \u001b[0;34m=\u001b[0m \u001b[0msys\u001b[0m\u001b[0;34m.\u001b[0m\u001b[0mexc_info\u001b[0m\u001b[0;34m(\u001b[0m\u001b[0;34m)\u001b[0m\u001b[0;34m\u001b[0m\u001b[0;34m\u001b[0m\u001b[0m\n",
      "\u001b[0;32m~/.local/lib/python3.8/site-packages/distributed/client.py\u001b[0m in \u001b[0;36m_gather\u001b[0;34m(self, futures, errors, direct, local_worker)\u001b[0m\n\u001b[1;32m   1884\u001b[0m                             \u001b[0mexc\u001b[0m \u001b[0;34m=\u001b[0m \u001b[0mCancelledError\u001b[0m\u001b[0;34m(\u001b[0m\u001b[0mkey\u001b[0m\u001b[0;34m)\u001b[0m\u001b[0;34m\u001b[0m\u001b[0;34m\u001b[0m\u001b[0m\n\u001b[1;32m   1885\u001b[0m                         \u001b[0;32melse\u001b[0m\u001b[0;34m:\u001b[0m\u001b[0;34m\u001b[0m\u001b[0;34m\u001b[0m\u001b[0m\n\u001b[0;32m-> 1886\u001b[0;31m                             \u001b[0;32mraise\u001b[0m \u001b[0mexception\u001b[0m\u001b[0;34m.\u001b[0m\u001b[0mwith_traceback\u001b[0m\u001b[0;34m(\u001b[0m\u001b[0mtraceback\u001b[0m\u001b[0;34m)\u001b[0m\u001b[0;34m\u001b[0m\u001b[0;34m\u001b[0m\u001b[0m\n\u001b[0m\u001b[1;32m   1887\u001b[0m                         \u001b[0;32mraise\u001b[0m \u001b[0mexc\u001b[0m\u001b[0;34m\u001b[0m\u001b[0;34m\u001b[0m\u001b[0m\n\u001b[1;32m   1888\u001b[0m                     \u001b[0;32mif\u001b[0m \u001b[0merrors\u001b[0m \u001b[0;34m==\u001b[0m \u001b[0;34m\"skip\"\u001b[0m\u001b[0;34m:\u001b[0m\u001b[0;34m\u001b[0m\u001b[0;34m\u001b[0m\u001b[0m\n",
      "\u001b[0;32m/home/rebecca/.local/lib/python3.8/site-packages/dask/bag/core.py\u001b[0m in \u001b[0;36mreify\u001b[0;34m()\u001b[0m\n",
      "\u001b[0;32m/home/rebecca/.local/lib/python3.8/site-packages/dask/bag/core.py\u001b[0m in \u001b[0;36m__next__\u001b[0;34m()\u001b[0m\n",
      "\u001b[0;32m/home/rebecca/.local/lib/python3.8/site-packages/dask/bag/core.py\u001b[0m in \u001b[0;36m<listcomp>\u001b[0;34m()\u001b[0m\n",
      "\u001b[0;32m/home/rebecca/.local/lib/python3.8/site-packages/dask/bag/text.py\u001b[0m in \u001b[0;36mfile_to_blocks\u001b[0;34m()\u001b[0m\n",
      "\u001b[0;32m/home/rebecca/.local/lib/python3.8/site-packages/fsspec/core.py\u001b[0m in \u001b[0;36m__enter__\u001b[0;34m()\u001b[0m\n",
      "\u001b[0;32m/home/rebecca/.local/lib/python3.8/site-packages/fsspec/spec.py\u001b[0m in \u001b[0;36mopen\u001b[0;34m()\u001b[0m\n",
      "\u001b[0;32m/home/rebecca/.local/lib/python3.8/site-packages/fsspec/implementations/local.py\u001b[0m in \u001b[0;36m_open\u001b[0;34m()\u001b[0m\n",
      "\u001b[0;32m/home/rebecca/.local/lib/python3.8/site-packages/fsspec/implementations/local.py\u001b[0m in \u001b[0;36m__init__\u001b[0;34m()\u001b[0m\n",
      "\u001b[0;32m/home/rebecca/.local/lib/python3.8/site-packages/fsspec/implementations/local.py\u001b[0m in \u001b[0;36m_open\u001b[0;34m()\u001b[0m\n",
      "\u001b[0;31mFileNotFoundError\u001b[0m: [Errno 2] No such file or directory: '/home/lnegri/Downloads/Meta_Analysis_of_COVID_papers/Meta_Analysis_of_COVID_papers/COVID_papers/0000b93c66f991236db92dc16fa6db119b27ca12.json'"
     ]
    }
   ],
   "source": [
    "time1 = time.time()\n",
    "b_conc  = b.map(concatenate_text).map(word_count)\n",
    "b_count = b_conc.fold(reduce_counts)\n",
    "#b = db.from_sequence(flist).map(open).map(json.load)\n",
    "\n",
    "#b = b.repartition(len(flist))\n",
    "\n",
    "\n",
    "#b_final = db.from_sequence(flist).repartition(len(flist)).map(open).map(json.load).map(word_dellamadonna).compute()#.fold(reduce_counts).compute()\n",
    "oh = b_count.compute()\n",
    "print(time.time() - time1)"
   ]
  },
  {
   "cell_type": "code",
   "execution_count": 59,
   "metadata": {},
   "outputs": [
    {
     "data": {
      "text/plain": [
       "1"
      ]
     },
     "execution_count": 59,
     "metadata": {},
     "output_type": "execute_result"
    }
   ],
   "source": [
    "list(b.map(word_dellamadonna).flatten().take(1)[0].items())[0][1]"
   ]
  },
  {
   "cell_type": "code",
   "execution_count": 13,
   "metadata": {},
   "outputs": [],
   "source": [
    "def add(x1,x2):\n",
    "    return list(x1.items())[0][1] + list(x2.items())[0][1]\n",
    "\n",
    "def add2(x1,x2):\n",
    "    return x1 + x2[1]\n",
    "\n",
    "def add3(a,b):\n",
    "    print(a,b,'!!!!!!!!!!!!!!!!!!!!!!!!!!!!!!!!!!!!!!!!!!!!!!!!!!!!111')\n",
    "    return a+b\n",
    "\n",
    "def binop(t, x):\n",
    "\n",
    "    return max((t, x), key=lambda x: x[1])"
   ]
  },
  {
   "cell_type": "code",
   "execution_count": 33,
   "metadata": {},
   "outputs": [],
   "source": [
    "#b_conc  = b.map(word_dellamadonna).flatten().foldby(lambda x:x[0],binop=add2)\n",
    "b_conc = b.pluck('body_text').map(word_dellamadonna2).flatten().foldby(lambda x:x[0],binop=add2,initial=0,combine=add3,combine_initial=(0,0))\n",
    "oh = b_conc.compute()\n"
   ]
  },
  {
   "cell_type": "code",
   "execution_count": 34,
   "metadata": {},
   "outputs": [],
   "source": [
    "ohhh = {key[0]:key[1][0] for key in oh}"
   ]
  },
  {
   "cell_type": "code",
   "execution_count": null,
   "metadata": {},
   "outputs": [],
   "source": [
    "oh = db.from_sequence(b_final).repartition(len(flist)).fold(reduce_counts).compute()\n",
    "\n"
   ]
  },
  {
   "cell_type": "code",
   "execution_count": 35,
   "metadata": {},
   "outputs": [
    {
     "data": {
      "text/plain": [
       "('factorsthe', array([4, 4]))"
      ]
     },
     "execution_count": 35,
     "metadata": {},
     "output_type": "execute_result"
    }
   ],
   "source": [
    "oh[35361]"
   ]
  },
  {
   "cell_type": "code",
   "execution_count": 36,
   "metadata": {},
   "outputs": [],
   "source": [
    "oh_sort = dict(sorted(ohhh.items(), key=lambda item: item[1])[::-1])\n",
    "\n",
    "words_related_to_research = ['et','al','fig','data','study','number','model','results'\n",
    "                             ,'figure','p','t','reported','public','table','studies','higher'\n",
    "                            ,'different','population','shown','period','analysis','information']\n",
    "\n",
    "words_related_to_COVID    = ['mers-cov','covid-19','patients','infection',\n",
    "                             'rate','health','cases','virus','disease','human','pandemic',\n",
    "                            'viral','autophagy','growth','response','nodules','lockdown',\n",
    "                            'contact','cells','care','case','positive','protein','stem','epidemic'\n",
    "                            ,'transimission','dna']"
   ]
  },
  {
   "cell_type": "code",
   "execution_count": 49,
   "metadata": {},
   "outputs": [
    {
     "data": {
      "text/plain": [
       "('horton', array([1, 1]))"
      ]
     },
     "execution_count": 49,
     "metadata": {},
     "output_type": "execute_result"
    }
   ],
   "source": [
    "oh[96675]"
   ]
  },
  {
   "cell_type": "code",
   "execution_count": 37,
   "metadata": {
    "scrolled": true
   },
   "outputs": [
    {
     "data": {
      "image/png": "[encoded data removed]",
      "text/plain": [
       "<Figure size 360x1440 with 1 Axes>"
      ]
     },
     "metadata": {
      "needs_background": "light"
     },
     "output_type": "display_data"
    }
   ],
   "source": [
    "n_to_plot = 100\n",
    "n_low = 0\n",
    "\n",
    "list_of_vals = list(oh_sort.values())[n_low:n_to_plot]\n",
    "list_of_keys = list(oh_sort.keys())[n_low:n_to_plot]\n",
    "\n",
    "clist = []\n",
    "\n",
    "for key in list_of_keys:\n",
    "    \n",
    "    if key in words_related_to_COVID:\n",
    "        clist.append('red')\n",
    "    elif key in words_related_to_research:\n",
    "        clist.append('green')\n",
    "    else:\n",
    "        clist.append('blue')\n",
    "    \n",
    "\n",
    "plt.figure(figsize=[5,20])\n",
    "\n",
    "plt.barh(list_of_keys[::-1],list_of_vals[::-1],color=clist[::-1])\n",
    "\n",
    "#plt.xticks(rotation=60)\n",
    "\n",
    "plt.show()"
   ]
  },
  {
   "cell_type": "markdown",
   "metadata": {},
   "source": [
    "## Nations represented in research\n",
    "\n",
    "We will now try to gather information on the research, from wich country it comes form"
   ]
  },
  {
   "cell_type": "code",
   "execution_count": 21,
   "metadata": {},
   "outputs": [],
   "source": [
    "#b.take(4)[3]['metadata']#['authors']#[0]['affiliation']['location']['country']\n",
    "\n",
    "def country_getter(paper_dict):\n",
    "    \n",
    "    authors = paper_dict['metadata']['authors']\n",
    "    countries = {}\n",
    "    for author in authors:\n",
    "        try:\n",
    "            \n",
    "            country = author['affiliation']['location']['country']\n",
    "\n",
    "                \n",
    "        except:\n",
    "            country = 'Not Available'\n",
    "            \n",
    "        if country not in countries.keys():\n",
    "            country = country.replace(' Correspondence', '').replace(' Correspondencia', '').replace(';','').replace(':','')\n",
    "            country = country.replace('. •', '').replace('.','').replace(' ²Our Research','').replace(' A B S T R A C T', '')\n",
    "            c_list = country.split(', ')\n",
    "            for c in c_list:\n",
    "                if c not in countries.keys():\n",
    "                    countries[c] = 1\n",
    "                else:\n",
    "                    countries[c] +=1\n",
    "        else:\n",
    "            countries[country]+=1\n",
    "    \n",
    "    return countries\n",
    "        \n"
   ]
  },
  {
   "cell_type": "code",
   "execution_count": null,
   "metadata": {},
   "outputs": [],
   "source": []
  },
  {
   "cell_type": "code",
   "execution_count": 24,
   "metadata": {},
   "outputs": [],
   "source": [
    "#countries = b.map(country_getter).fold(reduce_counts).compute()\n",
    "countries = db.from_sequence(flist).repartition(len(flist)).map(open).map(json.load).map(country_getter).fold(reduce_counts).compute()"
   ]
  },
  {
   "cell_type": "code",
   "execution_count": 23,
   "metadata": {},
   "outputs": [
    {
     "name": "stdout",
     "output_type": "stream",
     "text": [
      "4 Switzerland\n",
      "7 Germany\n",
      "Ann Arbor\n",
      "Argentina\n",
      "Australia\n",
      "Austria\n",
      "Austria *Correspondence\n",
      "Bangladesh\n",
      "Belgium\n",
      "Brasil\n",
      "Brazil\n",
      "Brazil (\n",
      "Brazil R\n",
      "Cambodia\n",
      "Canada\n",
      "Chile\n",
      "China\n",
      "China (\n",
      "Colombia\n",
      "Croatia\n",
      "Czech Republic\n",
      "Denmark\n",
      "Deutschland\n",
      "Ecuador\n",
      "Egypt\n",
      "España\n",
      "Estonia\n",
      "Ethiopia\n",
      "Finland\n",
      "France\n",
      "Georgia\n",
      "Germany\n",
      "Ghana\n",
      "Gokhan\n",
      "Greece\n",
      "Guatemala\n",
      "Hungary\n",
      "India\n",
      "Indonesia\n",
      "Iran\n",
      "Iran (the Islamic Republic of\n",
      "Ireland\n",
      "Israel\n",
      "Italia\n",
      "Italien\n",
      "Italy\n",
      "Japan\n",
      "Japan (\n",
      "Jordan\n",
      "Kenya\n",
      "Korea\n",
      "Lithuania\n",
      "Luxembourg\n",
      "Malawi\n",
      "Malaysia\n",
      "Mauritius\n",
      "Mexico\n",
      "Mexico City\n",
      "Morocco\n",
      "Mozambique\n",
      "Nepal\n",
      "Netherlands\n",
      "New Caledonia\n",
      "New Zealand\n",
      "Nigeria\n",
      "Norway\n",
      "Norwegen\n",
      "Not Available\n",
      "Oman\n",
      "Osmaniye\n",
      "P R China\n",
      "Pakistan\n",
      "People's Republic of China\n",
      "Peru\n",
      "Philippines\n",
      "Poland\n",
      "Portugal\n",
      "PR China\n",
      "Public Health England\n",
      "Qatar\n",
      "Republic of Korea\n",
      "ROC\n",
      "Romania\n",
      "Russia\n",
      "SA Avenida Italia\n",
      "Saudi Arabia\n",
      "Schweden\n",
      "Scotland\n",
      "Senegal\n",
      "Serbia\n",
      "Singapore\n",
      "Slovakia\n",
      "South Africa\n",
      "South Korea\n",
      "Spain\n",
      "Spain 11\n",
      "Spain Address\n",
      "Spain email\n",
      "Sweden\n",
      "Switzerland\n",
      "Syria\n",
      "Taiwan\n",
      "Tanzania\n",
      "Thailand\n",
      "the Netherlands\n",
      "The Netherlands\n",
      "The United States of America\n",
      "Turkey\n",
      "UK\n",
      "UK A R\n",
      "UK)\n",
      "United Kingdom\n",
      "United States\n",
      "United States of America\n",
      "Unites States of America\n",
      "Uruguay\n",
      "USA\n",
      "UT\n",
      "Valledupar Colombia\n",
      "Venezuela\n",
      "Vietnam\n",
      "Österreich\n"
     ]
    }
   ],
   "source": [
    "for i in sorted(countries.keys(), key=lambda x:x.lower()):\n",
    "    print(i)"
   ]
  },
  {
   "cell_type": "code",
   "execution_count": 51,
   "metadata": {},
   "outputs": [
    {
     "data": {
      "text/plain": [
       "13"
      ]
     },
     "execution_count": 51,
     "metadata": {},
     "output_type": "execute_result"
    }
   ],
   "source": [
    "countries['P R China']"
   ]
  },
  {
   "cell_type": "code",
   "execution_count": 52,
   "metadata": {},
   "outputs": [],
   "source": [
    "df     = pd.DataFrame(list(countries.items()),columns = ['Country','N_of_people'])\n",
    "replacements     = {'PR China':'China',\"People's Republic of China\":'China','China (':'China','P R China':'China',\n",
    "                    'ROC':'Taiwan',\n",
    "                    'Mexico City':'Mexico',\n",
    "                    'Japan (':'Japan',\n",
    "                    'UK':'United Kingdom', 'UK)':'United Kingdom', 'Public Health England':'United Kingdom',\n",
    "                    'UK A R':'United Kingdom','Scotland':'United Kingdom',\n",
    "                    'Spain Address':'Spain', 'España':'Spain', 'Spain email':'Spain', 'Spain 11':'Spain',\n",
    "                    '4 Switzerland':'Switzerland',\n",
    "                    'U.S.A':'USA', 'United States of America':'USA', 'United States':'USA', 'The United States of America':'USA',\n",
    "                    'UT':'USA', 'Ann Arbor':'USA', 'Unites States of America':'USA',\n",
    "                    'Brasil':'Brazil', 'Brazil R':'Brazil', 'Brazil (':'Brazil',\n",
    "                    'Österreich':'Austria', 'Austria *Correspondence':'Austria',\n",
    "                    'Italien':'Italy', 'Italia':'Italy',\n",
    "                    'Iran (the Islamic Republic of':'Iran',\n",
    "                    'Osmaniye':'Turkey', 'Gokhan':'Turkey',\n",
    "                    'the Netherlands':'The Netherlands', 'Netherlands':'The Netherlands',\n",
    "                    'Korea':'South Korea', 'Republic of Korea':'South Korea',\n",
    "                    'SA Avenida Italia':'Uruguay',\n",
    "                    'Canada ²Our Research':'Canada',\n",
    "                    'Valledupar Colombia':'Colombia',\n",
    "                    'New Caledonia':'France',\n",
    "                    'Schweden':'Sweden', \n",
    "                    'Norwegen':'Norway',\n",
    "                    '7 Germany':'Germany', 'Deutschland':'Germany'\n",
    "                    }\n",
    "\n",
    "df     = df.replace(replacements)\n",
    "df_new = df.groupby(by='Country',axis=0).sum()"
   ]
  },
  {
   "cell_type": "code",
   "execution_count": 53,
   "metadata": {
    "scrolled": false
   },
   "outputs": [
    {
     "data": {
      "image/png": "[encoded data removed]",
      "text/plain": [
       "<Figure size 576x2880 with 1 Axes>"
      ]
     },
     "metadata": {
      "needs_background": "light"
     },
     "output_type": "display_data"
    }
   ],
   "source": [
    "plt.figure(figsize=(8,40))\n",
    "plt.barh(df[df['Country']!='Not Available']['Country'],df[df['Country']!='Not Available']['N_of_people'])\n",
    "plt.show()"
   ]
  },
  {
   "cell_type": "code",
   "execution_count": 25,
   "metadata": {},
   "outputs": [
    {
     "data": {
      "text/plain": [
       "{'title': 'Middle East respiratory syndrome: An emerging coronavirus infection tracked by the crowd',\n",
       " 'authors': [{'first': 'Ian',\n",
       "   'middle': ['M'],\n",
       "   'last': 'Mackay',\n",
       "   'suffix': '',\n",
       "   'affiliation': {'laboratory': 'Queensland Paediatric Infectious Diseases Laboratory',\n",
       "    'institution': 'The University of Queensland',\n",
       "    'location': {'settlement': 'Brisbane', 'country': 'Australia'}},\n",
       "   'email': ''},\n",
       "  {'first': 'Katherine',\n",
       "   'middle': ['E'],\n",
       "   'last': 'Arden',\n",
       "   'suffix': '',\n",
       "   'affiliation': {'laboratory': 'Queensland Paediatric Infectious Diseases Laboratory',\n",
       "    'institution': 'The University of Queensland',\n",
       "    'location': {'settlement': 'Brisbane', 'country': 'Australia'}},\n",
       "   'email': ''}]}"
      ]
     },
     "execution_count": 25,
     "metadata": {},
     "output_type": "execute_result"
    }
   ],
   "source": [
    "b.take(30)[-3]['metadata']"
   ]
  },
  {
   "cell_type": "code",
   "execution_count": 91,
   "metadata": {},
   "outputs": [
    {
     "name": "stdout",
     "output_type": "stream",
     "text": [
      "Help on method repartition in module dask.bag.core:\n",
      "\n",
      "repartition(npartitions=None, partition_size=None) method of dask.bag.core.Bag instance\n",
      "    Repartition Bag across new divisions.\n",
      "    \n",
      "    Parameters\n",
      "    ----------\n",
      "    npartitions : int, optional\n",
      "        Number of partitions of output.\n",
      "    partition_size : int or string, optional\n",
      "        Max number of bytes of memory for each partition. Use numbers or\n",
      "        strings like 5MB.\n",
      "    \n",
      "        .. warning::\n",
      "    \n",
      "           This keyword argument triggers computation to determine\n",
      "           the memory size of each partition, which may be expensive.\n",
      "    \n",
      "    Notes\n",
      "    -----\n",
      "    Exactly one of ``npartitions`` or ``partition_size`` should be specified.\n",
      "    A ``ValueError`` will be raised when that is not the case.\n",
      "    \n",
      "    Examples\n",
      "    --------\n",
      "    >>> b.repartition(5)  # set to have 5 partitions  # doctest: +SKIP\n",
      "\n"
     ]
    }
   ],
   "source": [
    "help(b.repartition)"
   ]
  },
  {
   "cell_type": "code",
   "execution_count": 14,
   "metadata": {},
   "outputs": [],
   "source": [
    "with open('dummy.mapd') as file:\n",
    "    flist = ['COVID_papers/'+i.strip() for i in file]"
   ]
  },
  {
   "cell_type": "code",
   "execution_count": 15,
   "metadata": {},
   "outputs": [],
   "source": [
    "for filejson in flist:\n",
    "    json_belism = json.load(open(filejson))\n",
    "    stringajson = json.dumps(json_belism) \n",
    "    f = open('json1line_'+filejson,'w')\n",
    "    f.write(stringajson)\n",
    "    f.close()\n",
    "    "
   ]
  },
  {
   "cell_type": "code",
   "execution_count": 11,
   "metadata": {},
   "outputs": [
    {
     "name": "stdout",
     "output_type": "stream",
     "text": [
      "Help on function dumps in module json:\n",
      "\n",
      "dumps(obj, *, skipkeys=False, ensure_ascii=True, check_circular=True, allow_nan=True, cls=None, indent=None, separators=None, default=None, sort_keys=False, **kw)\n",
      "    Serialize ``obj`` to a JSON formatted ``str``.\n",
      "    \n",
      "    If ``skipkeys`` is true then ``dict`` keys that are not basic types\n",
      "    (``str``, ``int``, ``float``, ``bool``, ``None``) will be skipped\n",
      "    instead of raising a ``TypeError``.\n",
      "    \n",
      "    If ``ensure_ascii`` is false, then the return value can contain non-ASCII\n",
      "    characters if they appear in strings contained in ``obj``. Otherwise, all\n",
      "    such characters are escaped in JSON strings.\n",
      "    \n",
      "    If ``check_circular`` is false, then the circular reference check\n",
      "    for container types will be skipped and a circular reference will\n",
      "    result in an ``OverflowError`` (or worse).\n",
      "    \n",
      "    If ``allow_nan`` is false, then it will be a ``ValueError`` to\n",
      "    serialize out of range ``float`` values (``nan``, ``inf``, ``-inf``) in\n",
      "    strict compliance of the JSON specification, instead of using the\n",
      "    JavaScript equivalents (``NaN``, ``Infinity``, ``-Infinity``).\n",
      "    \n",
      "    If ``indent`` is a non-negative integer, then JSON array elements and\n",
      "    object members will be pretty-printed with that indent level. An indent\n",
      "    level of 0 will only insert newlines. ``None`` is the most compact\n",
      "    representation.\n",
      "    \n",
      "    If specified, ``separators`` should be an ``(item_separator, key_separator)``\n",
      "    tuple.  The default is ``(', ', ': ')`` if *indent* is ``None`` and\n",
      "    ``(',', ': ')`` otherwise.  To get the most compact JSON representation,\n",
      "    you should specify ``(',', ':')`` to eliminate whitespace.\n",
      "    \n",
      "    ``default(obj)`` is a function that should return a serializable version\n",
      "    of obj or raise TypeError. The default simply raises TypeError.\n",
      "    \n",
      "    If *sort_keys* is true (default: ``False``), then the output of\n",
      "    dictionaries will be sorted by key.\n",
      "    \n",
      "    To use a custom ``JSONEncoder`` subclass (e.g. one that overrides the\n",
      "    ``.default()`` method to serialize additional types), specify it with\n",
      "    the ``cls`` kwarg; otherwise ``JSONEncoder`` is used.\n",
      "\n"
     ]
    }
   ],
   "source": [
    "help(json.dumps)"
   ]
  },
  {
   "cell_type": "code",
   "execution_count": 16,
   "metadata": {},
   "outputs": [
    {
     "ename": "JSONDecodeError",
     "evalue": "Expecting value: line 1 column 1 (char 0)",
     "output_type": "error",
     "traceback": [
      "\u001b[0;31m---------------------------------------------------------------------------\u001b[0m",
      "\u001b[0;31mJSONDecodeError\u001b[0m                           Traceback (most recent call last)",
      "\u001b[0;32m<ipython-input-16-543b33e0725e>\u001b[0m in \u001b[0;36m<module>\u001b[0;34m\u001b[0m\n\u001b[0;32m----> 1\u001b[0;31m \u001b[0mohhh\u001b[0m \u001b[0;34m=\u001b[0m \u001b[0mjson\u001b[0m\u001b[0;34m.\u001b[0m\u001b[0mloads\u001b[0m\u001b[0;34m(\u001b[0m\u001b[0;34m'json1line_'\u001b[0m\u001b[0;34m+\u001b[0m\u001b[0mflist\u001b[0m\u001b[0;34m[\u001b[0m\u001b[0;36m0\u001b[0m\u001b[0;34m]\u001b[0m\u001b[0;34m)\u001b[0m\u001b[0;34m\u001b[0m\u001b[0;34m\u001b[0m\u001b[0m\n\u001b[0m\u001b[1;32m      2\u001b[0m \u001b[0mohh\u001b[0m\u001b[0;34m\u001b[0m\u001b[0;34m\u001b[0m\u001b[0m\n",
      "\u001b[0;32m/usr/lib/python3.8/json/__init__.py\u001b[0m in \u001b[0;36mloads\u001b[0;34m(s, cls, object_hook, parse_float, parse_int, parse_constant, object_pairs_hook, **kw)\u001b[0m\n\u001b[1;32m    355\u001b[0m             \u001b[0mparse_int\u001b[0m \u001b[0;32mis\u001b[0m \u001b[0;32mNone\u001b[0m \u001b[0;32mand\u001b[0m \u001b[0mparse_float\u001b[0m \u001b[0;32mis\u001b[0m \u001b[0;32mNone\u001b[0m \u001b[0;32mand\u001b[0m\u001b[0;34m\u001b[0m\u001b[0;34m\u001b[0m\u001b[0m\n\u001b[1;32m    356\u001b[0m             parse_constant is None and object_pairs_hook is None and not kw):\n\u001b[0;32m--> 357\u001b[0;31m         \u001b[0;32mreturn\u001b[0m \u001b[0m_default_decoder\u001b[0m\u001b[0;34m.\u001b[0m\u001b[0mdecode\u001b[0m\u001b[0;34m(\u001b[0m\u001b[0ms\u001b[0m\u001b[0;34m)\u001b[0m\u001b[0;34m\u001b[0m\u001b[0;34m\u001b[0m\u001b[0m\n\u001b[0m\u001b[1;32m    358\u001b[0m     \u001b[0;32mif\u001b[0m \u001b[0mcls\u001b[0m \u001b[0;32mis\u001b[0m \u001b[0;32mNone\u001b[0m\u001b[0;34m:\u001b[0m\u001b[0;34m\u001b[0m\u001b[0;34m\u001b[0m\u001b[0m\n\u001b[1;32m    359\u001b[0m         \u001b[0mcls\u001b[0m \u001b[0;34m=\u001b[0m \u001b[0mJSONDecoder\u001b[0m\u001b[0;34m\u001b[0m\u001b[0;34m\u001b[0m\u001b[0m\n",
      "\u001b[0;32m/usr/lib/python3.8/json/decoder.py\u001b[0m in \u001b[0;36mdecode\u001b[0;34m(self, s, _w)\u001b[0m\n\u001b[1;32m    335\u001b[0m \u001b[0;34m\u001b[0m\u001b[0m\n\u001b[1;32m    336\u001b[0m         \"\"\"\n\u001b[0;32m--> 337\u001b[0;31m         \u001b[0mobj\u001b[0m\u001b[0;34m,\u001b[0m \u001b[0mend\u001b[0m \u001b[0;34m=\u001b[0m \u001b[0mself\u001b[0m\u001b[0;34m.\u001b[0m\u001b[0mraw_decode\u001b[0m\u001b[0;34m(\u001b[0m\u001b[0ms\u001b[0m\u001b[0;34m,\u001b[0m \u001b[0midx\u001b[0m\u001b[0;34m=\u001b[0m\u001b[0m_w\u001b[0m\u001b[0;34m(\u001b[0m\u001b[0ms\u001b[0m\u001b[0;34m,\u001b[0m \u001b[0;36m0\u001b[0m\u001b[0;34m)\u001b[0m\u001b[0;34m.\u001b[0m\u001b[0mend\u001b[0m\u001b[0;34m(\u001b[0m\u001b[0;34m)\u001b[0m\u001b[0;34m)\u001b[0m\u001b[0;34m\u001b[0m\u001b[0;34m\u001b[0m\u001b[0m\n\u001b[0m\u001b[1;32m    338\u001b[0m         \u001b[0mend\u001b[0m \u001b[0;34m=\u001b[0m \u001b[0m_w\u001b[0m\u001b[0;34m(\u001b[0m\u001b[0ms\u001b[0m\u001b[0;34m,\u001b[0m \u001b[0mend\u001b[0m\u001b[0;34m)\u001b[0m\u001b[0;34m.\u001b[0m\u001b[0mend\u001b[0m\u001b[0;34m(\u001b[0m\u001b[0;34m)\u001b[0m\u001b[0;34m\u001b[0m\u001b[0;34m\u001b[0m\u001b[0m\n\u001b[1;32m    339\u001b[0m         \u001b[0;32mif\u001b[0m \u001b[0mend\u001b[0m \u001b[0;34m!=\u001b[0m \u001b[0mlen\u001b[0m\u001b[0;34m(\u001b[0m\u001b[0ms\u001b[0m\u001b[0;34m)\u001b[0m\u001b[0;34m:\u001b[0m\u001b[0;34m\u001b[0m\u001b[0;34m\u001b[0m\u001b[0m\n",
      "\u001b[0;32m/usr/lib/python3.8/json/decoder.py\u001b[0m in \u001b[0;36mraw_decode\u001b[0;34m(self, s, idx)\u001b[0m\n\u001b[1;32m    353\u001b[0m             \u001b[0mobj\u001b[0m\u001b[0;34m,\u001b[0m \u001b[0mend\u001b[0m \u001b[0;34m=\u001b[0m \u001b[0mself\u001b[0m\u001b[0;34m.\u001b[0m\u001b[0mscan_once\u001b[0m\u001b[0;34m(\u001b[0m\u001b[0ms\u001b[0m\u001b[0;34m,\u001b[0m \u001b[0midx\u001b[0m\u001b[0;34m)\u001b[0m\u001b[0;34m\u001b[0m\u001b[0;34m\u001b[0m\u001b[0m\n\u001b[1;32m    354\u001b[0m         \u001b[0;32mexcept\u001b[0m \u001b[0mStopIteration\u001b[0m \u001b[0;32mas\u001b[0m \u001b[0merr\u001b[0m\u001b[0;34m:\u001b[0m\u001b[0;34m\u001b[0m\u001b[0;34m\u001b[0m\u001b[0m\n\u001b[0;32m--> 355\u001b[0;31m             \u001b[0;32mraise\u001b[0m \u001b[0mJSONDecodeError\u001b[0m\u001b[0;34m(\u001b[0m\u001b[0;34m\"Expecting value\"\u001b[0m\u001b[0;34m,\u001b[0m \u001b[0ms\u001b[0m\u001b[0;34m,\u001b[0m \u001b[0merr\u001b[0m\u001b[0;34m.\u001b[0m\u001b[0mvalue\u001b[0m\u001b[0;34m)\u001b[0m \u001b[0;32mfrom\u001b[0m \u001b[0;32mNone\u001b[0m\u001b[0;34m\u001b[0m\u001b[0;34m\u001b[0m\u001b[0m\n\u001b[0m\u001b[1;32m    356\u001b[0m         \u001b[0;32mreturn\u001b[0m \u001b[0mobj\u001b[0m\u001b[0;34m,\u001b[0m \u001b[0mend\u001b[0m\u001b[0;34m\u001b[0m\u001b[0;34m\u001b[0m\u001b[0m\n",
      "\u001b[0;31mJSONDecodeError\u001b[0m: Expecting value: line 1 column 1 (char 0)"
     ]
    }
   ],
   "source": [
    "ohhh = json.loads('json1line_'+flist[0])\n",
    "ohhh"
   ]
  },
  {
   "cell_type": "code",
   "execution_count": null,
   "metadata": {},
   "outputs": [],
   "source": []
  }
 ],
 "metadata": {
  "kernelspec": {
   "display_name": "Python 3",
   "language": "python",
   "name": "python3"
  },
  "language_info": {
   "codemirror_mode": {
    "name": "ipython",
    "version": 3
   },
   "file_extension": ".py",
   "mimetype": "text/x-python",
   "name": "python",
   "nbconvert_exporter": "python",
   "pygments_lexer": "ipython3",
   "version": "3.8.10"
  }
 },
 "nbformat": 4,
 "nbformat_minor": 4
}
